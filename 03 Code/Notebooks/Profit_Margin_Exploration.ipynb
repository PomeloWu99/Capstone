{
  "nbformat": 4,
  "nbformat_minor": 0,
  "metadata": {
    "colab": {
      "provenance": [],
      "collapsed_sections": [
        "bSDx5wtAXswh",
        "odzrsXJrELZn"
      ],
      "toc_visible": true
    },
    "kernelspec": {
      "name": "python3",
      "display_name": "Python 3"
    },
    "language_info": {
      "name": "python"
    }
  },
  "cells": [
    {
      "cell_type": "code",
      "execution_count": 1,
      "metadata": {
        "colab": {
          "base_uri": "https://localhost:8080/"
        },
        "id": "O8vU9lz2ScZ6",
        "outputId": "0588d113-fe17-4d6e-dda8-f517f9f59663"
      },
      "outputs": [
        {
          "output_type": "stream",
          "name": "stdout",
          "text": [
            "Mounted at /content/drive/\n"
          ]
        }
      ],
      "source": [
        "## Reading Files\n",
        "from google.colab import drive\n",
        "\n",
        "drive.mount('/content/drive/', force_remount=True)"
      ]
    },
    {
      "cell_type": "code",
      "source": [
        "import pandas as pd\n",
        "import numpy as np\n",
        "import matplotlib.pyplot as plt\n",
        "import seaborn as sns\n",
        "import altair as alt\n",
        "import sklearn\n",
        "import plotly.express as px\n",
        "from pandas import Period\n",
        "from scipy import stats\n",
        "import re"
      ],
      "metadata": {
        "id": "dQdDM0DBTh-C"
      },
      "execution_count": 2,
      "outputs": []
    },
    {
      "cell_type": "code",
      "source": [
        "ameco_1623 = pd.read_csv('/content/drive/MyDrive/Capstone Data/ameco_data.csv',low_memory=False)\n",
        "df = ameco_1623.copy()"
      ],
      "metadata": {
        "id": "P703OqcfUqlL"
      },
      "execution_count": 3,
      "outputs": []
    },
    {
      "cell_type": "code",
      "source": [
        "df = df[['X.','Customer.No.','Customer.Name','Customer.Category',\n",
        "                        'Ship.To.State','Invoice.Date','Strikeforce.Flag','Stock.Status',\n",
        "                        'Item.No.','Item.Group','Product.Classification',\n",
        "                        'UoM.Code','Quantity','Inventory.Cost','Price',\n",
        "                        'DPM.Factor','DPM.Price']]"
      ],
      "metadata": {
        "id": "UJarF61CWBAN"
      },
      "execution_count": 4,
      "outputs": []
    },
    {
      "cell_type": "code",
      "source": [
        "df.info()"
      ],
      "metadata": {
        "colab": {
          "base_uri": "https://localhost:8080/"
        },
        "id": "HIVZ7FlJJtOv",
        "outputId": "9d0b9d11-db8a-484d-9d57-266c31ecbf82"
      },
      "execution_count": 5,
      "outputs": [
        {
          "output_type": "stream",
          "name": "stdout",
          "text": [
            "<class 'pandas.core.frame.DataFrame'>\n",
            "RangeIndex: 1155850 entries, 0 to 1155849\n",
            "Data columns (total 17 columns):\n",
            " #   Column                  Non-Null Count    Dtype  \n",
            "---  ------                  --------------    -----  \n",
            " 0   X.                      1155850 non-null  object \n",
            " 1   Customer.No.            1155850 non-null  object \n",
            " 2   Customer.Name           1155835 non-null  object \n",
            " 3   Customer.Category       590461 non-null   object \n",
            " 4   Ship.To.State           571691 non-null   object \n",
            " 5   Invoice.Date            1155850 non-null  object \n",
            " 6   Strikeforce.Flag        572301 non-null   object \n",
            " 7   Stock.Status            691242 non-null   object \n",
            " 8   Item.No.                1155840 non-null  object \n",
            " 9   Item.Group              572291 non-null   object \n",
            " 10  Product.Classification  572290 non-null   object \n",
            " 11  UoM.Code                1155835 non-null  object \n",
            " 12  Quantity                1155850 non-null  object \n",
            " 13  Inventory.Cost          1155847 non-null  object \n",
            " 14  Price                   1155849 non-null  object \n",
            " 15  DPM.Factor              572301 non-null   float64\n",
            " 16  DPM.Price               868869 non-null   object \n",
            "dtypes: float64(1), object(16)\n",
            "memory usage: 149.9+ MB\n"
          ]
        }
      ]
    },
    {
      "cell_type": "code",
      "source": [
        "numerical_columns = ['Inventory.Cost','Price','Quantity']"
      ],
      "metadata": {
        "id": "dXrkxQM_Q8_0"
      },
      "execution_count": 6,
      "outputs": []
    },
    {
      "cell_type": "code",
      "source": [
        "df[numerical_columns] = df[numerical_columns].replace({',': ''}, regex=True).astype(float)"
      ],
      "metadata": {
        "id": "Ed7naYN4ROX4"
      },
      "execution_count": 7,
      "outputs": []
    },
    {
      "cell_type": "code",
      "source": [
        "df = df[df['Price'] > 0]"
      ],
      "metadata": {
        "id": "yMfMQbTcPIxh"
      },
      "execution_count": 8,
      "outputs": []
    },
    {
      "cell_type": "markdown",
      "source": [
        "## Dataset Clean"
      ],
      "metadata": {
        "id": "FNSvi7AEr4b6"
      }
    },
    {
      "cell_type": "markdown",
      "source": [
        "### Customer Category Remap"
      ],
      "metadata": {
        "id": "zZ2fnWLZMz3F"
      }
    },
    {
      "cell_type": "markdown",
      "source": [
        "#### Make the cusotmer no consistent"
      ],
      "metadata": {
        "id": "hVeeDb4yQZAj"
      }
    },
    {
      "cell_type": "code",
      "source": [
        "df['Customer.Name'] = df['Customer.Name'].str.replace(r'[^\\w\\s]+', '')"
      ],
      "metadata": {
        "colab": {
          "base_uri": "https://localhost:8080/"
        },
        "id": "GkqZg-3rWBGg",
        "outputId": "72388c55-3fc9-4138-8afc-3bf75d84bf19"
      },
      "execution_count": 9,
      "outputs": [
        {
          "output_type": "stream",
          "name": "stderr",
          "text": [
            "<ipython-input-9-ca9b5d3313d0>:1: FutureWarning: The default value of regex will change from True to False in a future version.\n",
            "  df['Customer.Name'] = df['Customer.Name'].str.replace(r'[^\\w\\s]+', '')\n"
          ]
        }
      ]
    },
    {
      "cell_type": "code",
      "source": [
        "df['Customer.Name'] = df['Customer.Name'].map(lambda x: x.strip() if isinstance(x, str) else x)"
      ],
      "metadata": {
        "id": "kJtDtLcyac3d"
      },
      "execution_count": 10,
      "outputs": []
    },
    {
      "cell_type": "code",
      "source": [
        "df['Customer.Name']"
      ],
      "metadata": {
        "colab": {
          "base_uri": "https://localhost:8080/"
        },
        "id": "KSL4xD0ZYTQJ",
        "outputId": "5427df5b-8b1c-4fc6-e2fc-774742fccc7b"
      },
      "execution_count": 11,
      "outputs": [
        {
          "output_type": "execute_result",
          "data": {
            "text/plain": [
              "0                             BEN HUR\n",
              "1                 CUSTOM CONVEYOR INC\n",
              "2                 CUSTOM CONVEYOR INC\n",
              "3                 CUSTOM CONVEYOR INC\n",
              "18                       KENNEDY TANK\n",
              "                      ...            \n",
              "1155845    ADS MANUFACTURING OHIO LLC\n",
              "1155846    ADS MANUFACTURING OHIO LLC\n",
              "1155847    ADS MANUFACTURING OHIO LLC\n",
              "1155848    ADS MANUFACTURING OHIO LLC\n",
              "1155849    ADS MANUFACTURING OHIO LLC\n",
              "Name: Customer.Name, Length: 1134769, dtype: object"
            ]
          },
          "metadata": {},
          "execution_count": 11
        }
      ]
    },
    {
      "cell_type": "code",
      "source": [
        "def map_customer_no(row):\n",
        "    if len(row['Customer.No.']) == 6 and 'PRE' in row['X.']:\n",
        "        return 'C' + row['Customer.No.']\n",
        "    elif len(row['Customer.No.']) == 5 and 'PRE' in row['X.']:\n",
        "        return 'C0' + row['Customer.No.']\n",
        "    elif len(row['Customer.No.']) == 4 and 'PRE' in row['X.']:\n",
        "        return 'C00' + row['Customer.No.']\n",
        "    elif len(row['Customer.No.']) == 3 and 'PRE' in row['X.']:\n",
        "        return 'C000' + row['Customer.No.']\n",
        "    elif len(row['Customer.No.']) == 2 and 'PRE' in row['X.']:\n",
        "        return 'C0000' + row['Customer.No.']\n",
        "    elif len(row['Customer.No.']) == 1 and 'PRE' in row['X.']:\n",
        "        return 'C00000' + row['Customer.No.']\n",
        "    else:\n",
        "        return row['Customer.No.']"
      ],
      "metadata": {
        "id": "drb0N73APZvn"
      },
      "execution_count": 12,
      "outputs": []
    },
    {
      "cell_type": "code",
      "execution_count": 13,
      "metadata": {
        "id": "ht_G9CBs7hS0"
      },
      "outputs": [],
      "source": [
        "df['Customer.No.'] = df.apply(map_customer_no, axis=1)"
      ]
    },
    {
      "cell_type": "code",
      "execution_count": 14,
      "metadata": {
        "id": "iVcSCR-P7_2q",
        "colab": {
          "base_uri": "https://localhost:8080/"
        },
        "outputId": "482f1acb-a3d4-4513-8dfe-7546f232d14b"
      },
      "outputs": [
        {
          "output_type": "stream",
          "name": "stdout",
          "text": [
            "The number of unique customer numberis now 2084.\n",
            "The number of unique customer name is 2123.\n"
          ]
        }
      ],
      "source": [
        "print(f\"The number of unique customer numberis now {df['Customer.No.'].nunique()}.\")\n",
        "print(f\"The number of unique customer name is {df['Customer.Name'].nunique()}.\")"
      ]
    },
    {
      "cell_type": "code",
      "source": [
        "customer_pair = df[['Customer.No.','Customer.Name']]\n",
        "customer_pair = customer_pair.groupby('Customer.No.')['Customer.Name'].nunique().reset_index().rename(columns={'Customer.Name':'Count'})"
      ],
      "metadata": {
        "id": "tvj8g46lRnQi"
      },
      "execution_count": 15,
      "outputs": []
    },
    {
      "cell_type": "code",
      "source": [
        "customer_pair[customer_pair['Count']!=1]"
      ],
      "metadata": {
        "colab": {
          "base_uri": "https://localhost:8080/",
          "height": 423
        },
        "id": "CFPfamfBU4gw",
        "outputId": "fe2cfde6-75b8-47fc-aa23-85d75a60196e"
      },
      "execution_count": 16,
      "outputs": [
        {
          "output_type": "execute_result",
          "data": {
            "text/plain": [
              "     Customer.No.  Count\n",
              "13        C000109      2\n",
              "45        C000449      2\n",
              "63        C000612      2\n",
              "78        C000767      2\n",
              "109       C001072      2\n",
              "...           ...    ...\n",
              "1681      C109882      2\n",
              "1683      C109887      2\n",
              "1692      C109902      2\n",
              "1694      C109905      2\n",
              "1722      C109964      2\n",
              "\n",
              "[97 rows x 2 columns]"
            ],
            "text/html": [
              "\n",
              "  <div id=\"df-15fcd958-5786-4e97-92b3-2218acb79302\" class=\"colab-df-container\">\n",
              "    <div>\n",
              "<style scoped>\n",
              "    .dataframe tbody tr th:only-of-type {\n",
              "        vertical-align: middle;\n",
              "    }\n",
              "\n",
              "    .dataframe tbody tr th {\n",
              "        vertical-align: top;\n",
              "    }\n",
              "\n",
              "    .dataframe thead th {\n",
              "        text-align: right;\n",
              "    }\n",
              "</style>\n",
              "<table border=\"1\" class=\"dataframe\">\n",
              "  <thead>\n",
              "    <tr style=\"text-align: right;\">\n",
              "      <th></th>\n",
              "      <th>Customer.No.</th>\n",
              "      <th>Count</th>\n",
              "    </tr>\n",
              "  </thead>\n",
              "  <tbody>\n",
              "    <tr>\n",
              "      <th>13</th>\n",
              "      <td>C000109</td>\n",
              "      <td>2</td>\n",
              "    </tr>\n",
              "    <tr>\n",
              "      <th>45</th>\n",
              "      <td>C000449</td>\n",
              "      <td>2</td>\n",
              "    </tr>\n",
              "    <tr>\n",
              "      <th>63</th>\n",
              "      <td>C000612</td>\n",
              "      <td>2</td>\n",
              "    </tr>\n",
              "    <tr>\n",
              "      <th>78</th>\n",
              "      <td>C000767</td>\n",
              "      <td>2</td>\n",
              "    </tr>\n",
              "    <tr>\n",
              "      <th>109</th>\n",
              "      <td>C001072</td>\n",
              "      <td>2</td>\n",
              "    </tr>\n",
              "    <tr>\n",
              "      <th>...</th>\n",
              "      <td>...</td>\n",
              "      <td>...</td>\n",
              "    </tr>\n",
              "    <tr>\n",
              "      <th>1681</th>\n",
              "      <td>C109882</td>\n",
              "      <td>2</td>\n",
              "    </tr>\n",
              "    <tr>\n",
              "      <th>1683</th>\n",
              "      <td>C109887</td>\n",
              "      <td>2</td>\n",
              "    </tr>\n",
              "    <tr>\n",
              "      <th>1692</th>\n",
              "      <td>C109902</td>\n",
              "      <td>2</td>\n",
              "    </tr>\n",
              "    <tr>\n",
              "      <th>1694</th>\n",
              "      <td>C109905</td>\n",
              "      <td>2</td>\n",
              "    </tr>\n",
              "    <tr>\n",
              "      <th>1722</th>\n",
              "      <td>C109964</td>\n",
              "      <td>2</td>\n",
              "    </tr>\n",
              "  </tbody>\n",
              "</table>\n",
              "<p>97 rows × 2 columns</p>\n",
              "</div>\n",
              "    <div class=\"colab-df-buttons\">\n",
              "\n",
              "  <div class=\"colab-df-container\">\n",
              "    <button class=\"colab-df-convert\" onclick=\"convertToInteractive('df-15fcd958-5786-4e97-92b3-2218acb79302')\"\n",
              "            title=\"Convert this dataframe to an interactive table.\"\n",
              "            style=\"display:none;\">\n",
              "\n",
              "  <svg xmlns=\"http://www.w3.org/2000/svg\" height=\"24px\" viewBox=\"0 -960 960 960\">\n",
              "    <path d=\"M120-120v-720h720v720H120Zm60-500h600v-160H180v160Zm220 220h160v-160H400v160Zm0 220h160v-160H400v160ZM180-400h160v-160H180v160Zm440 0h160v-160H620v160ZM180-180h160v-160H180v160Zm440 0h160v-160H620v160Z\"/>\n",
              "  </svg>\n",
              "    </button>\n",
              "\n",
              "  <style>\n",
              "    .colab-df-container {\n",
              "      display:flex;\n",
              "      gap: 12px;\n",
              "    }\n",
              "\n",
              "    .colab-df-convert {\n",
              "      background-color: #E8F0FE;\n",
              "      border: none;\n",
              "      border-radius: 50%;\n",
              "      cursor: pointer;\n",
              "      display: none;\n",
              "      fill: #1967D2;\n",
              "      height: 32px;\n",
              "      padding: 0 0 0 0;\n",
              "      width: 32px;\n",
              "    }\n",
              "\n",
              "    .colab-df-convert:hover {\n",
              "      background-color: #E2EBFA;\n",
              "      box-shadow: 0px 1px 2px rgba(60, 64, 67, 0.3), 0px 1px 3px 1px rgba(60, 64, 67, 0.15);\n",
              "      fill: #174EA6;\n",
              "    }\n",
              "\n",
              "    .colab-df-buttons div {\n",
              "      margin-bottom: 4px;\n",
              "    }\n",
              "\n",
              "    [theme=dark] .colab-df-convert {\n",
              "      background-color: #3B4455;\n",
              "      fill: #D2E3FC;\n",
              "    }\n",
              "\n",
              "    [theme=dark] .colab-df-convert:hover {\n",
              "      background-color: #434B5C;\n",
              "      box-shadow: 0px 1px 3px 1px rgba(0, 0, 0, 0.15);\n",
              "      filter: drop-shadow(0px 1px 2px rgba(0, 0, 0, 0.3));\n",
              "      fill: #FFFFFF;\n",
              "    }\n",
              "  </style>\n",
              "\n",
              "    <script>\n",
              "      const buttonEl =\n",
              "        document.querySelector('#df-15fcd958-5786-4e97-92b3-2218acb79302 button.colab-df-convert');\n",
              "      buttonEl.style.display =\n",
              "        google.colab.kernel.accessAllowed ? 'block' : 'none';\n",
              "\n",
              "      async function convertToInteractive(key) {\n",
              "        const element = document.querySelector('#df-15fcd958-5786-4e97-92b3-2218acb79302');\n",
              "        const dataTable =\n",
              "          await google.colab.kernel.invokeFunction('convertToInteractive',\n",
              "                                                    [key], {});\n",
              "        if (!dataTable) return;\n",
              "\n",
              "        const docLinkHtml = 'Like what you see? Visit the ' +\n",
              "          '<a target=\"_blank\" href=https://colab.research.google.com/notebooks/data_table.ipynb>data table notebook</a>'\n",
              "          + ' to learn more about interactive tables.';\n",
              "        element.innerHTML = '';\n",
              "        dataTable['output_type'] = 'display_data';\n",
              "        await google.colab.output.renderOutput(dataTable, element);\n",
              "        const docLink = document.createElement('div');\n",
              "        docLink.innerHTML = docLinkHtml;\n",
              "        element.appendChild(docLink);\n",
              "      }\n",
              "    </script>\n",
              "  </div>\n",
              "\n",
              "\n",
              "<div id=\"df-85712a83-70b9-4ea7-bac2-6c2057052be5\">\n",
              "  <button class=\"colab-df-quickchart\" onclick=\"quickchart('df-85712a83-70b9-4ea7-bac2-6c2057052be5')\"\n",
              "            title=\"Suggest charts\"\n",
              "            style=\"display:none;\">\n",
              "\n",
              "<svg xmlns=\"http://www.w3.org/2000/svg\" height=\"24px\"viewBox=\"0 0 24 24\"\n",
              "     width=\"24px\">\n",
              "    <g>\n",
              "        <path d=\"M19 3H5c-1.1 0-2 .9-2 2v14c0 1.1.9 2 2 2h14c1.1 0 2-.9 2-2V5c0-1.1-.9-2-2-2zM9 17H7v-7h2v7zm4 0h-2V7h2v10zm4 0h-2v-4h2v4z\"/>\n",
              "    </g>\n",
              "</svg>\n",
              "  </button>\n",
              "\n",
              "<style>\n",
              "  .colab-df-quickchart {\n",
              "      --bg-color: #E8F0FE;\n",
              "      --fill-color: #1967D2;\n",
              "      --hover-bg-color: #E2EBFA;\n",
              "      --hover-fill-color: #174EA6;\n",
              "      --disabled-fill-color: #AAA;\n",
              "      --disabled-bg-color: #DDD;\n",
              "  }\n",
              "\n",
              "  [theme=dark] .colab-df-quickchart {\n",
              "      --bg-color: #3B4455;\n",
              "      --fill-color: #D2E3FC;\n",
              "      --hover-bg-color: #434B5C;\n",
              "      --hover-fill-color: #FFFFFF;\n",
              "      --disabled-bg-color: #3B4455;\n",
              "      --disabled-fill-color: #666;\n",
              "  }\n",
              "\n",
              "  .colab-df-quickchart {\n",
              "    background-color: var(--bg-color);\n",
              "    border: none;\n",
              "    border-radius: 50%;\n",
              "    cursor: pointer;\n",
              "    display: none;\n",
              "    fill: var(--fill-color);\n",
              "    height: 32px;\n",
              "    padding: 0;\n",
              "    width: 32px;\n",
              "  }\n",
              "\n",
              "  .colab-df-quickchart:hover {\n",
              "    background-color: var(--hover-bg-color);\n",
              "    box-shadow: 0 1px 2px rgba(60, 64, 67, 0.3), 0 1px 3px 1px rgba(60, 64, 67, 0.15);\n",
              "    fill: var(--button-hover-fill-color);\n",
              "  }\n",
              "\n",
              "  .colab-df-quickchart-complete:disabled,\n",
              "  .colab-df-quickchart-complete:disabled:hover {\n",
              "    background-color: var(--disabled-bg-color);\n",
              "    fill: var(--disabled-fill-color);\n",
              "    box-shadow: none;\n",
              "  }\n",
              "\n",
              "  .colab-df-spinner {\n",
              "    border: 2px solid var(--fill-color);\n",
              "    border-color: transparent;\n",
              "    border-bottom-color: var(--fill-color);\n",
              "    animation:\n",
              "      spin 1s steps(1) infinite;\n",
              "  }\n",
              "\n",
              "  @keyframes spin {\n",
              "    0% {\n",
              "      border-color: transparent;\n",
              "      border-bottom-color: var(--fill-color);\n",
              "      border-left-color: var(--fill-color);\n",
              "    }\n",
              "    20% {\n",
              "      border-color: transparent;\n",
              "      border-left-color: var(--fill-color);\n",
              "      border-top-color: var(--fill-color);\n",
              "    }\n",
              "    30% {\n",
              "      border-color: transparent;\n",
              "      border-left-color: var(--fill-color);\n",
              "      border-top-color: var(--fill-color);\n",
              "      border-right-color: var(--fill-color);\n",
              "    }\n",
              "    40% {\n",
              "      border-color: transparent;\n",
              "      border-right-color: var(--fill-color);\n",
              "      border-top-color: var(--fill-color);\n",
              "    }\n",
              "    60% {\n",
              "      border-color: transparent;\n",
              "      border-right-color: var(--fill-color);\n",
              "    }\n",
              "    80% {\n",
              "      border-color: transparent;\n",
              "      border-right-color: var(--fill-color);\n",
              "      border-bottom-color: var(--fill-color);\n",
              "    }\n",
              "    90% {\n",
              "      border-color: transparent;\n",
              "      border-bottom-color: var(--fill-color);\n",
              "    }\n",
              "  }\n",
              "</style>\n",
              "\n",
              "  <script>\n",
              "    async function quickchart(key) {\n",
              "      const quickchartButtonEl =\n",
              "        document.querySelector('#' + key + ' button');\n",
              "      quickchartButtonEl.disabled = true;  // To prevent multiple clicks.\n",
              "      quickchartButtonEl.classList.add('colab-df-spinner');\n",
              "      try {\n",
              "        const charts = await google.colab.kernel.invokeFunction(\n",
              "            'suggestCharts', [key], {});\n",
              "      } catch (error) {\n",
              "        console.error('Error during call to suggestCharts:', error);\n",
              "      }\n",
              "      quickchartButtonEl.classList.remove('colab-df-spinner');\n",
              "      quickchartButtonEl.classList.add('colab-df-quickchart-complete');\n",
              "    }\n",
              "    (() => {\n",
              "      let quickchartButtonEl =\n",
              "        document.querySelector('#df-85712a83-70b9-4ea7-bac2-6c2057052be5 button');\n",
              "      quickchartButtonEl.style.display =\n",
              "        google.colab.kernel.accessAllowed ? 'block' : 'none';\n",
              "    })();\n",
              "  </script>\n",
              "</div>\n",
              "\n",
              "    </div>\n",
              "  </div>\n"
            ],
            "application/vnd.google.colaboratory.intrinsic+json": {
              "type": "dataframe",
              "summary": "{\n  \"name\": \"customer_pair[customer_pair['Count']!=1]\",\n  \"rows\": 97,\n  \"fields\": [\n    {\n      \"column\": \"Customer.No.\",\n      \"properties\": {\n        \"dtype\": \"string\",\n        \"num_unique_values\": 97,\n        \"samples\": [\n          \"C107782\",\n          \"C104885\",\n          \"C109887\"\n        ],\n        \"semantic_type\": \"\",\n        \"description\": \"\"\n      }\n    },\n    {\n      \"column\": \"Count\",\n      \"properties\": {\n        \"dtype\": \"number\",\n        \"std\": 0,\n        \"min\": 2,\n        \"max\": 2,\n        \"num_unique_values\": 1,\n        \"samples\": [\n          2\n        ],\n        \"semantic_type\": \"\",\n        \"description\": \"\"\n      }\n    }\n  ]\n}"
            }
          },
          "metadata": {},
          "execution_count": 16
        }
      ]
    },
    {
      "cell_type": "code",
      "source": [
        "df[df['Customer.No.']=='C001072'].sample(5)"
      ],
      "metadata": {
        "colab": {
          "base_uri": "https://localhost:8080/",
          "height": 400
        },
        "id": "_WhL099aZQ1E",
        "outputId": "b78f62bc-083c-436b-adb6-76efe3978b09"
      },
      "execution_count": 17,
      "outputs": [
        {
          "output_type": "execute_result",
          "data": {
            "text/plain": [
              "                X. Customer.No.                    Customer.Name  \\\n",
              "21061    PRE 21062      C001072   APPLIED INDUSTRIAL TECHNOLOGIE   \n",
              "21056    PRE 21057      C001072   APPLIED INDUSTRIAL TECHNOLOGIE   \n",
              "365277  PRE 365278      C001072   APPLIED INDUSTRIAL TECHNOLOGIE   \n",
              "21058    PRE 21059      C001072   APPLIED INDUSTRIAL TECHNOLOGIE   \n",
              "858570  SAP 275022      C001072  APPLIED INDUSTRIAL TECHNOLOGIES   \n",
              "\n",
              "       Customer.Category Ship.To.State Invoice.Date Strikeforce.Flag  \\\n",
              "21061                 P1           NaN     1/1/2016              NaN   \n",
              "21056                 P1           NaN     1/1/2016              NaN   \n",
              "365277                P1           NaN     1/1/2018              NaN   \n",
              "21058                 P1           NaN     1/1/2016              NaN   \n",
              "858570               NaN            KY     6/9/2023                N   \n",
              "\n",
              "       Stock.Status         Item.No.            Item.Group  \\\n",
              "21061             N      ENE M783055                   NaN   \n",
              "21056             N     ENE CA561024                   NaN   \n",
              "365277            N  ENE IPL100-SEAK                   NaN   \n",
              "21058             N      ENE Y252167                   NaN   \n",
              "858570    Non Stock    VIC 0781-3600  Const Supplies CS/SD   \n",
              "\n",
              "       Product.Classification UoM.Code  Quantity  Inventory.Cost   Price  \\\n",
              "21061                     NaN       EA       1.0           3.620    6.00   \n",
              "21056                     NaN       EA       1.0           5.920    9.80   \n",
              "365277                    NaN       EA       1.0          61.776  132.00   \n",
              "21058                     NaN       EA       1.0          24.900   41.20   \n",
              "858570                 EQUMIS       EA       1.0         202.340  256.95   \n",
              "\n",
              "        DPM.Factor DPM.Price  \n",
              "21061          NaN       NaN  \n",
              "21056          NaN       NaN  \n",
              "365277         NaN       NaN  \n",
              "21058          NaN       NaN  \n",
              "858570         0.0         0  "
            ],
            "text/html": [
              "\n",
              "  <div id=\"df-4aa3e338-412a-4c40-bafe-4312239e471f\" class=\"colab-df-container\">\n",
              "    <div>\n",
              "<style scoped>\n",
              "    .dataframe tbody tr th:only-of-type {\n",
              "        vertical-align: middle;\n",
              "    }\n",
              "\n",
              "    .dataframe tbody tr th {\n",
              "        vertical-align: top;\n",
              "    }\n",
              "\n",
              "    .dataframe thead th {\n",
              "        text-align: right;\n",
              "    }\n",
              "</style>\n",
              "<table border=\"1\" class=\"dataframe\">\n",
              "  <thead>\n",
              "    <tr style=\"text-align: right;\">\n",
              "      <th></th>\n",
              "      <th>X.</th>\n",
              "      <th>Customer.No.</th>\n",
              "      <th>Customer.Name</th>\n",
              "      <th>Customer.Category</th>\n",
              "      <th>Ship.To.State</th>\n",
              "      <th>Invoice.Date</th>\n",
              "      <th>Strikeforce.Flag</th>\n",
              "      <th>Stock.Status</th>\n",
              "      <th>Item.No.</th>\n",
              "      <th>Item.Group</th>\n",
              "      <th>Product.Classification</th>\n",
              "      <th>UoM.Code</th>\n",
              "      <th>Quantity</th>\n",
              "      <th>Inventory.Cost</th>\n",
              "      <th>Price</th>\n",
              "      <th>DPM.Factor</th>\n",
              "      <th>DPM.Price</th>\n",
              "    </tr>\n",
              "  </thead>\n",
              "  <tbody>\n",
              "    <tr>\n",
              "      <th>21061</th>\n",
              "      <td>PRE 21062</td>\n",
              "      <td>C001072</td>\n",
              "      <td>APPLIED INDUSTRIAL TECHNOLOGIE</td>\n",
              "      <td>P1</td>\n",
              "      <td>NaN</td>\n",
              "      <td>1/1/2016</td>\n",
              "      <td>NaN</td>\n",
              "      <td>N</td>\n",
              "      <td>ENE M783055</td>\n",
              "      <td>NaN</td>\n",
              "      <td>NaN</td>\n",
              "      <td>EA</td>\n",
              "      <td>1.0</td>\n",
              "      <td>3.620</td>\n",
              "      <td>6.00</td>\n",
              "      <td>NaN</td>\n",
              "      <td>NaN</td>\n",
              "    </tr>\n",
              "    <tr>\n",
              "      <th>21056</th>\n",
              "      <td>PRE 21057</td>\n",
              "      <td>C001072</td>\n",
              "      <td>APPLIED INDUSTRIAL TECHNOLOGIE</td>\n",
              "      <td>P1</td>\n",
              "      <td>NaN</td>\n",
              "      <td>1/1/2016</td>\n",
              "      <td>NaN</td>\n",
              "      <td>N</td>\n",
              "      <td>ENE CA561024</td>\n",
              "      <td>NaN</td>\n",
              "      <td>NaN</td>\n",
              "      <td>EA</td>\n",
              "      <td>1.0</td>\n",
              "      <td>5.920</td>\n",
              "      <td>9.80</td>\n",
              "      <td>NaN</td>\n",
              "      <td>NaN</td>\n",
              "    </tr>\n",
              "    <tr>\n",
              "      <th>365277</th>\n",
              "      <td>PRE 365278</td>\n",
              "      <td>C001072</td>\n",
              "      <td>APPLIED INDUSTRIAL TECHNOLOGIE</td>\n",
              "      <td>P1</td>\n",
              "      <td>NaN</td>\n",
              "      <td>1/1/2018</td>\n",
              "      <td>NaN</td>\n",
              "      <td>N</td>\n",
              "      <td>ENE IPL100-SEAK</td>\n",
              "      <td>NaN</td>\n",
              "      <td>NaN</td>\n",
              "      <td>EA</td>\n",
              "      <td>1.0</td>\n",
              "      <td>61.776</td>\n",
              "      <td>132.00</td>\n",
              "      <td>NaN</td>\n",
              "      <td>NaN</td>\n",
              "    </tr>\n",
              "    <tr>\n",
              "      <th>21058</th>\n",
              "      <td>PRE 21059</td>\n",
              "      <td>C001072</td>\n",
              "      <td>APPLIED INDUSTRIAL TECHNOLOGIE</td>\n",
              "      <td>P1</td>\n",
              "      <td>NaN</td>\n",
              "      <td>1/1/2016</td>\n",
              "      <td>NaN</td>\n",
              "      <td>N</td>\n",
              "      <td>ENE Y252167</td>\n",
              "      <td>NaN</td>\n",
              "      <td>NaN</td>\n",
              "      <td>EA</td>\n",
              "      <td>1.0</td>\n",
              "      <td>24.900</td>\n",
              "      <td>41.20</td>\n",
              "      <td>NaN</td>\n",
              "      <td>NaN</td>\n",
              "    </tr>\n",
              "    <tr>\n",
              "      <th>858570</th>\n",
              "      <td>SAP 275022</td>\n",
              "      <td>C001072</td>\n",
              "      <td>APPLIED INDUSTRIAL TECHNOLOGIES</td>\n",
              "      <td>NaN</td>\n",
              "      <td>KY</td>\n",
              "      <td>6/9/2023</td>\n",
              "      <td>N</td>\n",
              "      <td>Non Stock</td>\n",
              "      <td>VIC 0781-3600</td>\n",
              "      <td>Const Supplies CS/SD</td>\n",
              "      <td>EQUMIS</td>\n",
              "      <td>EA</td>\n",
              "      <td>1.0</td>\n",
              "      <td>202.340</td>\n",
              "      <td>256.95</td>\n",
              "      <td>0.0</td>\n",
              "      <td>0</td>\n",
              "    </tr>\n",
              "  </tbody>\n",
              "</table>\n",
              "</div>\n",
              "    <div class=\"colab-df-buttons\">\n",
              "\n",
              "  <div class=\"colab-df-container\">\n",
              "    <button class=\"colab-df-convert\" onclick=\"convertToInteractive('df-4aa3e338-412a-4c40-bafe-4312239e471f')\"\n",
              "            title=\"Convert this dataframe to an interactive table.\"\n",
              "            style=\"display:none;\">\n",
              "\n",
              "  <svg xmlns=\"http://www.w3.org/2000/svg\" height=\"24px\" viewBox=\"0 -960 960 960\">\n",
              "    <path d=\"M120-120v-720h720v720H120Zm60-500h600v-160H180v160Zm220 220h160v-160H400v160Zm0 220h160v-160H400v160ZM180-400h160v-160H180v160Zm440 0h160v-160H620v160ZM180-180h160v-160H180v160Zm440 0h160v-160H620v160Z\"/>\n",
              "  </svg>\n",
              "    </button>\n",
              "\n",
              "  <style>\n",
              "    .colab-df-container {\n",
              "      display:flex;\n",
              "      gap: 12px;\n",
              "    }\n",
              "\n",
              "    .colab-df-convert {\n",
              "      background-color: #E8F0FE;\n",
              "      border: none;\n",
              "      border-radius: 50%;\n",
              "      cursor: pointer;\n",
              "      display: none;\n",
              "      fill: #1967D2;\n",
              "      height: 32px;\n",
              "      padding: 0 0 0 0;\n",
              "      width: 32px;\n",
              "    }\n",
              "\n",
              "    .colab-df-convert:hover {\n",
              "      background-color: #E2EBFA;\n",
              "      box-shadow: 0px 1px 2px rgba(60, 64, 67, 0.3), 0px 1px 3px 1px rgba(60, 64, 67, 0.15);\n",
              "      fill: #174EA6;\n",
              "    }\n",
              "\n",
              "    .colab-df-buttons div {\n",
              "      margin-bottom: 4px;\n",
              "    }\n",
              "\n",
              "    [theme=dark] .colab-df-convert {\n",
              "      background-color: #3B4455;\n",
              "      fill: #D2E3FC;\n",
              "    }\n",
              "\n",
              "    [theme=dark] .colab-df-convert:hover {\n",
              "      background-color: #434B5C;\n",
              "      box-shadow: 0px 1px 3px 1px rgba(0, 0, 0, 0.15);\n",
              "      filter: drop-shadow(0px 1px 2px rgba(0, 0, 0, 0.3));\n",
              "      fill: #FFFFFF;\n",
              "    }\n",
              "  </style>\n",
              "\n",
              "    <script>\n",
              "      const buttonEl =\n",
              "        document.querySelector('#df-4aa3e338-412a-4c40-bafe-4312239e471f button.colab-df-convert');\n",
              "      buttonEl.style.display =\n",
              "        google.colab.kernel.accessAllowed ? 'block' : 'none';\n",
              "\n",
              "      async function convertToInteractive(key) {\n",
              "        const element = document.querySelector('#df-4aa3e338-412a-4c40-bafe-4312239e471f');\n",
              "        const dataTable =\n",
              "          await google.colab.kernel.invokeFunction('convertToInteractive',\n",
              "                                                    [key], {});\n",
              "        if (!dataTable) return;\n",
              "\n",
              "        const docLinkHtml = 'Like what you see? Visit the ' +\n",
              "          '<a target=\"_blank\" href=https://colab.research.google.com/notebooks/data_table.ipynb>data table notebook</a>'\n",
              "          + ' to learn more about interactive tables.';\n",
              "        element.innerHTML = '';\n",
              "        dataTable['output_type'] = 'display_data';\n",
              "        await google.colab.output.renderOutput(dataTable, element);\n",
              "        const docLink = document.createElement('div');\n",
              "        docLink.innerHTML = docLinkHtml;\n",
              "        element.appendChild(docLink);\n",
              "      }\n",
              "    </script>\n",
              "  </div>\n",
              "\n",
              "\n",
              "<div id=\"df-962537ea-88b1-4296-ae97-dd75ecf31b5e\">\n",
              "  <button class=\"colab-df-quickchart\" onclick=\"quickchart('df-962537ea-88b1-4296-ae97-dd75ecf31b5e')\"\n",
              "            title=\"Suggest charts\"\n",
              "            style=\"display:none;\">\n",
              "\n",
              "<svg xmlns=\"http://www.w3.org/2000/svg\" height=\"24px\"viewBox=\"0 0 24 24\"\n",
              "     width=\"24px\">\n",
              "    <g>\n",
              "        <path d=\"M19 3H5c-1.1 0-2 .9-2 2v14c0 1.1.9 2 2 2h14c1.1 0 2-.9 2-2V5c0-1.1-.9-2-2-2zM9 17H7v-7h2v7zm4 0h-2V7h2v10zm4 0h-2v-4h2v4z\"/>\n",
              "    </g>\n",
              "</svg>\n",
              "  </button>\n",
              "\n",
              "<style>\n",
              "  .colab-df-quickchart {\n",
              "      --bg-color: #E8F0FE;\n",
              "      --fill-color: #1967D2;\n",
              "      --hover-bg-color: #E2EBFA;\n",
              "      --hover-fill-color: #174EA6;\n",
              "      --disabled-fill-color: #AAA;\n",
              "      --disabled-bg-color: #DDD;\n",
              "  }\n",
              "\n",
              "  [theme=dark] .colab-df-quickchart {\n",
              "      --bg-color: #3B4455;\n",
              "      --fill-color: #D2E3FC;\n",
              "      --hover-bg-color: #434B5C;\n",
              "      --hover-fill-color: #FFFFFF;\n",
              "      --disabled-bg-color: #3B4455;\n",
              "      --disabled-fill-color: #666;\n",
              "  }\n",
              "\n",
              "  .colab-df-quickchart {\n",
              "    background-color: var(--bg-color);\n",
              "    border: none;\n",
              "    border-radius: 50%;\n",
              "    cursor: pointer;\n",
              "    display: none;\n",
              "    fill: var(--fill-color);\n",
              "    height: 32px;\n",
              "    padding: 0;\n",
              "    width: 32px;\n",
              "  }\n",
              "\n",
              "  .colab-df-quickchart:hover {\n",
              "    background-color: var(--hover-bg-color);\n",
              "    box-shadow: 0 1px 2px rgba(60, 64, 67, 0.3), 0 1px 3px 1px rgba(60, 64, 67, 0.15);\n",
              "    fill: var(--button-hover-fill-color);\n",
              "  }\n",
              "\n",
              "  .colab-df-quickchart-complete:disabled,\n",
              "  .colab-df-quickchart-complete:disabled:hover {\n",
              "    background-color: var(--disabled-bg-color);\n",
              "    fill: var(--disabled-fill-color);\n",
              "    box-shadow: none;\n",
              "  }\n",
              "\n",
              "  .colab-df-spinner {\n",
              "    border: 2px solid var(--fill-color);\n",
              "    border-color: transparent;\n",
              "    border-bottom-color: var(--fill-color);\n",
              "    animation:\n",
              "      spin 1s steps(1) infinite;\n",
              "  }\n",
              "\n",
              "  @keyframes spin {\n",
              "    0% {\n",
              "      border-color: transparent;\n",
              "      border-bottom-color: var(--fill-color);\n",
              "      border-left-color: var(--fill-color);\n",
              "    }\n",
              "    20% {\n",
              "      border-color: transparent;\n",
              "      border-left-color: var(--fill-color);\n",
              "      border-top-color: var(--fill-color);\n",
              "    }\n",
              "    30% {\n",
              "      border-color: transparent;\n",
              "      border-left-color: var(--fill-color);\n",
              "      border-top-color: var(--fill-color);\n",
              "      border-right-color: var(--fill-color);\n",
              "    }\n",
              "    40% {\n",
              "      border-color: transparent;\n",
              "      border-right-color: var(--fill-color);\n",
              "      border-top-color: var(--fill-color);\n",
              "    }\n",
              "    60% {\n",
              "      border-color: transparent;\n",
              "      border-right-color: var(--fill-color);\n",
              "    }\n",
              "    80% {\n",
              "      border-color: transparent;\n",
              "      border-right-color: var(--fill-color);\n",
              "      border-bottom-color: var(--fill-color);\n",
              "    }\n",
              "    90% {\n",
              "      border-color: transparent;\n",
              "      border-bottom-color: var(--fill-color);\n",
              "    }\n",
              "  }\n",
              "</style>\n",
              "\n",
              "  <script>\n",
              "    async function quickchart(key) {\n",
              "      const quickchartButtonEl =\n",
              "        document.querySelector('#' + key + ' button');\n",
              "      quickchartButtonEl.disabled = true;  // To prevent multiple clicks.\n",
              "      quickchartButtonEl.classList.add('colab-df-spinner');\n",
              "      try {\n",
              "        const charts = await google.colab.kernel.invokeFunction(\n",
              "            'suggestCharts', [key], {});\n",
              "      } catch (error) {\n",
              "        console.error('Error during call to suggestCharts:', error);\n",
              "      }\n",
              "      quickchartButtonEl.classList.remove('colab-df-spinner');\n",
              "      quickchartButtonEl.classList.add('colab-df-quickchart-complete');\n",
              "    }\n",
              "    (() => {\n",
              "      let quickchartButtonEl =\n",
              "        document.querySelector('#df-962537ea-88b1-4296-ae97-dd75ecf31b5e button');\n",
              "      quickchartButtonEl.style.display =\n",
              "        google.colab.kernel.accessAllowed ? 'block' : 'none';\n",
              "    })();\n",
              "  </script>\n",
              "</div>\n",
              "\n",
              "    </div>\n",
              "  </div>\n"
            ],
            "application/vnd.google.colaboratory.intrinsic+json": {
              "type": "dataframe",
              "repr_error": "0"
            }
          },
          "metadata": {},
          "execution_count": 17
        }
      ]
    },
    {
      "cell_type": "markdown",
      "source": [
        "#### read customer category"
      ],
      "metadata": {
        "id": "_uPcYcYzRU_8"
      }
    },
    {
      "cell_type": "code",
      "source": [
        "customer_df = pd.read_excel('/content/drive/MyDrive/Capstone Data/20240312 Customer Price List Assignment.xlsx',usecols=[0,1,2,3,4]).copy()"
      ],
      "metadata": {
        "id": "qRPPxhXhMzBp"
      },
      "execution_count": 18,
      "outputs": []
    },
    {
      "cell_type": "code",
      "source": [
        "customer_df.sample(10)"
      ],
      "metadata": {
        "colab": {
          "base_uri": "https://localhost:8080/",
          "height": 363
        },
        "id": "txqbS2uPNgFv",
        "outputId": "25563c46-c3b3-42b1-c645-db2e960ffc45"
      },
      "execution_count": 19,
      "outputs": [
        {
          "output_type": "execute_result",
          "data": {
            "text/plain": [
              "         # Customer No.                            Customer Name DPM Exempt  \\\n",
              "2068  2069      C109374  INACTIVE DESERT BOILERS & CONTROLS INC.          N   \n",
              "778    779      C103152                            KONE ELEVATOR          N   \n",
              "3559  3560      C111214   A-1 EQUIPMENT SERVICE AND REPAIR, INC.          N   \n",
              "2362  2363      C109714                      CHILLRX CRYOTHERAPY          N   \n",
              "3324  3325      C110821                             GUTIER, LTD.          N   \n",
              "72      73      C000604          OTIS NORTH AMERICA HEADQUARTERS          N   \n",
              "212    213      C001588                       QUALITY MECHANICAL          N   \n",
              "2887  2888      C110289    DMR Millwright & Industrial Solutions          N   \n",
              "1998  1999      C109286                        US PARTS LOCATORS          N   \n",
              "1832  1833      C109089            CONTRACTORS CRANE COMPANY INC          N   \n",
              "\n",
              "     Price List Name  \n",
              "2068            Good  \n",
              "778             Good  \n",
              "3559            Good  \n",
              "2362            Good  \n",
              "3324            Good  \n",
              "72              Good  \n",
              "212             Good  \n",
              "2887            Good  \n",
              "1998            Good  \n",
              "1832            Good  "
            ],
            "text/html": [
              "\n",
              "  <div id=\"df-4c05b0be-f7b5-40b3-9b72-87f8acb8c111\" class=\"colab-df-container\">\n",
              "    <div>\n",
              "<style scoped>\n",
              "    .dataframe tbody tr th:only-of-type {\n",
              "        vertical-align: middle;\n",
              "    }\n",
              "\n",
              "    .dataframe tbody tr th {\n",
              "        vertical-align: top;\n",
              "    }\n",
              "\n",
              "    .dataframe thead th {\n",
              "        text-align: right;\n",
              "    }\n",
              "</style>\n",
              "<table border=\"1\" class=\"dataframe\">\n",
              "  <thead>\n",
              "    <tr style=\"text-align: right;\">\n",
              "      <th></th>\n",
              "      <th>#</th>\n",
              "      <th>Customer No.</th>\n",
              "      <th>Customer Name</th>\n",
              "      <th>DPM Exempt</th>\n",
              "      <th>Price List Name</th>\n",
              "    </tr>\n",
              "  </thead>\n",
              "  <tbody>\n",
              "    <tr>\n",
              "      <th>2068</th>\n",
              "      <td>2069</td>\n",
              "      <td>C109374</td>\n",
              "      <td>INACTIVE DESERT BOILERS &amp; CONTROLS INC.</td>\n",
              "      <td>N</td>\n",
              "      <td>Good</td>\n",
              "    </tr>\n",
              "    <tr>\n",
              "      <th>778</th>\n",
              "      <td>779</td>\n",
              "      <td>C103152</td>\n",
              "      <td>KONE ELEVATOR</td>\n",
              "      <td>N</td>\n",
              "      <td>Good</td>\n",
              "    </tr>\n",
              "    <tr>\n",
              "      <th>3559</th>\n",
              "      <td>3560</td>\n",
              "      <td>C111214</td>\n",
              "      <td>A-1 EQUIPMENT SERVICE AND REPAIR, INC.</td>\n",
              "      <td>N</td>\n",
              "      <td>Good</td>\n",
              "    </tr>\n",
              "    <tr>\n",
              "      <th>2362</th>\n",
              "      <td>2363</td>\n",
              "      <td>C109714</td>\n",
              "      <td>CHILLRX CRYOTHERAPY</td>\n",
              "      <td>N</td>\n",
              "      <td>Good</td>\n",
              "    </tr>\n",
              "    <tr>\n",
              "      <th>3324</th>\n",
              "      <td>3325</td>\n",
              "      <td>C110821</td>\n",
              "      <td>GUTIER, LTD.</td>\n",
              "      <td>N</td>\n",
              "      <td>Good</td>\n",
              "    </tr>\n",
              "    <tr>\n",
              "      <th>72</th>\n",
              "      <td>73</td>\n",
              "      <td>C000604</td>\n",
              "      <td>OTIS NORTH AMERICA HEADQUARTERS</td>\n",
              "      <td>N</td>\n",
              "      <td>Good</td>\n",
              "    </tr>\n",
              "    <tr>\n",
              "      <th>212</th>\n",
              "      <td>213</td>\n",
              "      <td>C001588</td>\n",
              "      <td>QUALITY MECHANICAL</td>\n",
              "      <td>N</td>\n",
              "      <td>Good</td>\n",
              "    </tr>\n",
              "    <tr>\n",
              "      <th>2887</th>\n",
              "      <td>2888</td>\n",
              "      <td>C110289</td>\n",
              "      <td>DMR Millwright &amp; Industrial Solutions</td>\n",
              "      <td>N</td>\n",
              "      <td>Good</td>\n",
              "    </tr>\n",
              "    <tr>\n",
              "      <th>1998</th>\n",
              "      <td>1999</td>\n",
              "      <td>C109286</td>\n",
              "      <td>US PARTS LOCATORS</td>\n",
              "      <td>N</td>\n",
              "      <td>Good</td>\n",
              "    </tr>\n",
              "    <tr>\n",
              "      <th>1832</th>\n",
              "      <td>1833</td>\n",
              "      <td>C109089</td>\n",
              "      <td>CONTRACTORS CRANE COMPANY INC</td>\n",
              "      <td>N</td>\n",
              "      <td>Good</td>\n",
              "    </tr>\n",
              "  </tbody>\n",
              "</table>\n",
              "</div>\n",
              "    <div class=\"colab-df-buttons\">\n",
              "\n",
              "  <div class=\"colab-df-container\">\n",
              "    <button class=\"colab-df-convert\" onclick=\"convertToInteractive('df-4c05b0be-f7b5-40b3-9b72-87f8acb8c111')\"\n",
              "            title=\"Convert this dataframe to an interactive table.\"\n",
              "            style=\"display:none;\">\n",
              "\n",
              "  <svg xmlns=\"http://www.w3.org/2000/svg\" height=\"24px\" viewBox=\"0 -960 960 960\">\n",
              "    <path d=\"M120-120v-720h720v720H120Zm60-500h600v-160H180v160Zm220 220h160v-160H400v160Zm0 220h160v-160H400v160ZM180-400h160v-160H180v160Zm440 0h160v-160H620v160ZM180-180h160v-160H180v160Zm440 0h160v-160H620v160Z\"/>\n",
              "  </svg>\n",
              "    </button>\n",
              "\n",
              "  <style>\n",
              "    .colab-df-container {\n",
              "      display:flex;\n",
              "      gap: 12px;\n",
              "    }\n",
              "\n",
              "    .colab-df-convert {\n",
              "      background-color: #E8F0FE;\n",
              "      border: none;\n",
              "      border-radius: 50%;\n",
              "      cursor: pointer;\n",
              "      display: none;\n",
              "      fill: #1967D2;\n",
              "      height: 32px;\n",
              "      padding: 0 0 0 0;\n",
              "      width: 32px;\n",
              "    }\n",
              "\n",
              "    .colab-df-convert:hover {\n",
              "      background-color: #E2EBFA;\n",
              "      box-shadow: 0px 1px 2px rgba(60, 64, 67, 0.3), 0px 1px 3px 1px rgba(60, 64, 67, 0.15);\n",
              "      fill: #174EA6;\n",
              "    }\n",
              "\n",
              "    .colab-df-buttons div {\n",
              "      margin-bottom: 4px;\n",
              "    }\n",
              "\n",
              "    [theme=dark] .colab-df-convert {\n",
              "      background-color: #3B4455;\n",
              "      fill: #D2E3FC;\n",
              "    }\n",
              "\n",
              "    [theme=dark] .colab-df-convert:hover {\n",
              "      background-color: #434B5C;\n",
              "      box-shadow: 0px 1px 3px 1px rgba(0, 0, 0, 0.15);\n",
              "      filter: drop-shadow(0px 1px 2px rgba(0, 0, 0, 0.3));\n",
              "      fill: #FFFFFF;\n",
              "    }\n",
              "  </style>\n",
              "\n",
              "    <script>\n",
              "      const buttonEl =\n",
              "        document.querySelector('#df-4c05b0be-f7b5-40b3-9b72-87f8acb8c111 button.colab-df-convert');\n",
              "      buttonEl.style.display =\n",
              "        google.colab.kernel.accessAllowed ? 'block' : 'none';\n",
              "\n",
              "      async function convertToInteractive(key) {\n",
              "        const element = document.querySelector('#df-4c05b0be-f7b5-40b3-9b72-87f8acb8c111');\n",
              "        const dataTable =\n",
              "          await google.colab.kernel.invokeFunction('convertToInteractive',\n",
              "                                                    [key], {});\n",
              "        if (!dataTable) return;\n",
              "\n",
              "        const docLinkHtml = 'Like what you see? Visit the ' +\n",
              "          '<a target=\"_blank\" href=https://colab.research.google.com/notebooks/data_table.ipynb>data table notebook</a>'\n",
              "          + ' to learn more about interactive tables.';\n",
              "        element.innerHTML = '';\n",
              "        dataTable['output_type'] = 'display_data';\n",
              "        await google.colab.output.renderOutput(dataTable, element);\n",
              "        const docLink = document.createElement('div');\n",
              "        docLink.innerHTML = docLinkHtml;\n",
              "        element.appendChild(docLink);\n",
              "      }\n",
              "    </script>\n",
              "  </div>\n",
              "\n",
              "\n",
              "<div id=\"df-74b542c8-c49a-497a-9eef-3db605841d73\">\n",
              "  <button class=\"colab-df-quickchart\" onclick=\"quickchart('df-74b542c8-c49a-497a-9eef-3db605841d73')\"\n",
              "            title=\"Suggest charts\"\n",
              "            style=\"display:none;\">\n",
              "\n",
              "<svg xmlns=\"http://www.w3.org/2000/svg\" height=\"24px\"viewBox=\"0 0 24 24\"\n",
              "     width=\"24px\">\n",
              "    <g>\n",
              "        <path d=\"M19 3H5c-1.1 0-2 .9-2 2v14c0 1.1.9 2 2 2h14c1.1 0 2-.9 2-2V5c0-1.1-.9-2-2-2zM9 17H7v-7h2v7zm4 0h-2V7h2v10zm4 0h-2v-4h2v4z\"/>\n",
              "    </g>\n",
              "</svg>\n",
              "  </button>\n",
              "\n",
              "<style>\n",
              "  .colab-df-quickchart {\n",
              "      --bg-color: #E8F0FE;\n",
              "      --fill-color: #1967D2;\n",
              "      --hover-bg-color: #E2EBFA;\n",
              "      --hover-fill-color: #174EA6;\n",
              "      --disabled-fill-color: #AAA;\n",
              "      --disabled-bg-color: #DDD;\n",
              "  }\n",
              "\n",
              "  [theme=dark] .colab-df-quickchart {\n",
              "      --bg-color: #3B4455;\n",
              "      --fill-color: #D2E3FC;\n",
              "      --hover-bg-color: #434B5C;\n",
              "      --hover-fill-color: #FFFFFF;\n",
              "      --disabled-bg-color: #3B4455;\n",
              "      --disabled-fill-color: #666;\n",
              "  }\n",
              "\n",
              "  .colab-df-quickchart {\n",
              "    background-color: var(--bg-color);\n",
              "    border: none;\n",
              "    border-radius: 50%;\n",
              "    cursor: pointer;\n",
              "    display: none;\n",
              "    fill: var(--fill-color);\n",
              "    height: 32px;\n",
              "    padding: 0;\n",
              "    width: 32px;\n",
              "  }\n",
              "\n",
              "  .colab-df-quickchart:hover {\n",
              "    background-color: var(--hover-bg-color);\n",
              "    box-shadow: 0 1px 2px rgba(60, 64, 67, 0.3), 0 1px 3px 1px rgba(60, 64, 67, 0.15);\n",
              "    fill: var(--button-hover-fill-color);\n",
              "  }\n",
              "\n",
              "  .colab-df-quickchart-complete:disabled,\n",
              "  .colab-df-quickchart-complete:disabled:hover {\n",
              "    background-color: var(--disabled-bg-color);\n",
              "    fill: var(--disabled-fill-color);\n",
              "    box-shadow: none;\n",
              "  }\n",
              "\n",
              "  .colab-df-spinner {\n",
              "    border: 2px solid var(--fill-color);\n",
              "    border-color: transparent;\n",
              "    border-bottom-color: var(--fill-color);\n",
              "    animation:\n",
              "      spin 1s steps(1) infinite;\n",
              "  }\n",
              "\n",
              "  @keyframes spin {\n",
              "    0% {\n",
              "      border-color: transparent;\n",
              "      border-bottom-color: var(--fill-color);\n",
              "      border-left-color: var(--fill-color);\n",
              "    }\n",
              "    20% {\n",
              "      border-color: transparent;\n",
              "      border-left-color: var(--fill-color);\n",
              "      border-top-color: var(--fill-color);\n",
              "    }\n",
              "    30% {\n",
              "      border-color: transparent;\n",
              "      border-left-color: var(--fill-color);\n",
              "      border-top-color: var(--fill-color);\n",
              "      border-right-color: var(--fill-color);\n",
              "    }\n",
              "    40% {\n",
              "      border-color: transparent;\n",
              "      border-right-color: var(--fill-color);\n",
              "      border-top-color: var(--fill-color);\n",
              "    }\n",
              "    60% {\n",
              "      border-color: transparent;\n",
              "      border-right-color: var(--fill-color);\n",
              "    }\n",
              "    80% {\n",
              "      border-color: transparent;\n",
              "      border-right-color: var(--fill-color);\n",
              "      border-bottom-color: var(--fill-color);\n",
              "    }\n",
              "    90% {\n",
              "      border-color: transparent;\n",
              "      border-bottom-color: var(--fill-color);\n",
              "    }\n",
              "  }\n",
              "</style>\n",
              "\n",
              "  <script>\n",
              "    async function quickchart(key) {\n",
              "      const quickchartButtonEl =\n",
              "        document.querySelector('#' + key + ' button');\n",
              "      quickchartButtonEl.disabled = true;  // To prevent multiple clicks.\n",
              "      quickchartButtonEl.classList.add('colab-df-spinner');\n",
              "      try {\n",
              "        const charts = await google.colab.kernel.invokeFunction(\n",
              "            'suggestCharts', [key], {});\n",
              "      } catch (error) {\n",
              "        console.error('Error during call to suggestCharts:', error);\n",
              "      }\n",
              "      quickchartButtonEl.classList.remove('colab-df-spinner');\n",
              "      quickchartButtonEl.classList.add('colab-df-quickchart-complete');\n",
              "    }\n",
              "    (() => {\n",
              "      let quickchartButtonEl =\n",
              "        document.querySelector('#df-74b542c8-c49a-497a-9eef-3db605841d73 button');\n",
              "      quickchartButtonEl.style.display =\n",
              "        google.colab.kernel.accessAllowed ? 'block' : 'none';\n",
              "    })();\n",
              "  </script>\n",
              "</div>\n",
              "\n",
              "    </div>\n",
              "  </div>\n"
            ],
            "application/vnd.google.colaboratory.intrinsic+json": {
              "type": "dataframe",
              "summary": "{\n  \"name\": \"customer_df\",\n  \"rows\": 10,\n  \"fields\": [\n    {\n      \"column\": \"#\",\n      \"properties\": {\n        \"dtype\": \"number\",\n        \"std\": 1222,\n        \"min\": 73,\n        \"max\": 3560,\n        \"num_unique_values\": 10,\n        \"samples\": [\n          1999,\n          779,\n          73\n        ],\n        \"semantic_type\": \"\",\n        \"description\": \"\"\n      }\n    },\n    {\n      \"column\": \"Customer No.\",\n      \"properties\": {\n        \"dtype\": \"string\",\n        \"num_unique_values\": 10,\n        \"samples\": [\n          \"C109286\",\n          \"C103152\",\n          \"C000604\"\n        ],\n        \"semantic_type\": \"\",\n        \"description\": \"\"\n      }\n    },\n    {\n      \"column\": \"Customer Name\",\n      \"properties\": {\n        \"dtype\": \"string\",\n        \"num_unique_values\": 10,\n        \"samples\": [\n          \"US PARTS LOCATORS\",\n          \"KONE ELEVATOR\",\n          \"OTIS NORTH AMERICA HEADQUARTERS\"\n        ],\n        \"semantic_type\": \"\",\n        \"description\": \"\"\n      }\n    },\n    {\n      \"column\": \"DPM Exempt\",\n      \"properties\": {\n        \"dtype\": \"category\",\n        \"num_unique_values\": 1,\n        \"samples\": [\n          \"N\"\n        ],\n        \"semantic_type\": \"\",\n        \"description\": \"\"\n      }\n    },\n    {\n      \"column\": \"Price List Name\",\n      \"properties\": {\n        \"dtype\": \"category\",\n        \"num_unique_values\": 1,\n        \"samples\": [\n          \"Good\"\n        ],\n        \"semantic_type\": \"\",\n        \"description\": \"\"\n      }\n    }\n  ]\n}"
            }
          },
          "metadata": {},
          "execution_count": 19
        }
      ]
    },
    {
      "cell_type": "code",
      "source": [
        "customer_df['Customer No.'].nunique()"
      ],
      "metadata": {
        "colab": {
          "base_uri": "https://localhost:8080/"
        },
        "id": "Ygud7IOHcNbl",
        "outputId": "be720524-c064-421e-c494-918189f02c77"
      },
      "execution_count": 20,
      "outputs": [
        {
          "output_type": "execute_result",
          "data": {
            "text/plain": [
              "3595"
            ]
          },
          "metadata": {},
          "execution_count": 20
        }
      ]
    },
    {
      "cell_type": "code",
      "source": [
        "customer_df[customer_df['Customer No.'] == 'C001072']"
      ],
      "metadata": {
        "colab": {
          "base_uri": "https://localhost:8080/",
          "height": 81
        },
        "id": "xYGEtb17PNXf",
        "outputId": "3dd62592-0bc6-40c8-f40d-ba3bae08d3ef"
      },
      "execution_count": 21,
      "outputs": [
        {
          "output_type": "execute_result",
          "data": {
            "text/plain": [
              "       # Customer No.                    Customer Name DPM Exempt  \\\n",
              "128  129      C001072  APPLIED INDUSTRIAL TECHNOLOGIES          N   \n",
              "\n",
              "    Price List Name  \n",
              "128            Good  "
            ],
            "text/html": [
              "\n",
              "  <div id=\"df-f6ad9dfd-4418-43fb-8a2e-f7660ed6081e\" class=\"colab-df-container\">\n",
              "    <div>\n",
              "<style scoped>\n",
              "    .dataframe tbody tr th:only-of-type {\n",
              "        vertical-align: middle;\n",
              "    }\n",
              "\n",
              "    .dataframe tbody tr th {\n",
              "        vertical-align: top;\n",
              "    }\n",
              "\n",
              "    .dataframe thead th {\n",
              "        text-align: right;\n",
              "    }\n",
              "</style>\n",
              "<table border=\"1\" class=\"dataframe\">\n",
              "  <thead>\n",
              "    <tr style=\"text-align: right;\">\n",
              "      <th></th>\n",
              "      <th>#</th>\n",
              "      <th>Customer No.</th>\n",
              "      <th>Customer Name</th>\n",
              "      <th>DPM Exempt</th>\n",
              "      <th>Price List Name</th>\n",
              "    </tr>\n",
              "  </thead>\n",
              "  <tbody>\n",
              "    <tr>\n",
              "      <th>128</th>\n",
              "      <td>129</td>\n",
              "      <td>C001072</td>\n",
              "      <td>APPLIED INDUSTRIAL TECHNOLOGIES</td>\n",
              "      <td>N</td>\n",
              "      <td>Good</td>\n",
              "    </tr>\n",
              "  </tbody>\n",
              "</table>\n",
              "</div>\n",
              "    <div class=\"colab-df-buttons\">\n",
              "\n",
              "  <div class=\"colab-df-container\">\n",
              "    <button class=\"colab-df-convert\" onclick=\"convertToInteractive('df-f6ad9dfd-4418-43fb-8a2e-f7660ed6081e')\"\n",
              "            title=\"Convert this dataframe to an interactive table.\"\n",
              "            style=\"display:none;\">\n",
              "\n",
              "  <svg xmlns=\"http://www.w3.org/2000/svg\" height=\"24px\" viewBox=\"0 -960 960 960\">\n",
              "    <path d=\"M120-120v-720h720v720H120Zm60-500h600v-160H180v160Zm220 220h160v-160H400v160Zm0 220h160v-160H400v160ZM180-400h160v-160H180v160Zm440 0h160v-160H620v160ZM180-180h160v-160H180v160Zm440 0h160v-160H620v160Z\"/>\n",
              "  </svg>\n",
              "    </button>\n",
              "\n",
              "  <style>\n",
              "    .colab-df-container {\n",
              "      display:flex;\n",
              "      gap: 12px;\n",
              "    }\n",
              "\n",
              "    .colab-df-convert {\n",
              "      background-color: #E8F0FE;\n",
              "      border: none;\n",
              "      border-radius: 50%;\n",
              "      cursor: pointer;\n",
              "      display: none;\n",
              "      fill: #1967D2;\n",
              "      height: 32px;\n",
              "      padding: 0 0 0 0;\n",
              "      width: 32px;\n",
              "    }\n",
              "\n",
              "    .colab-df-convert:hover {\n",
              "      background-color: #E2EBFA;\n",
              "      box-shadow: 0px 1px 2px rgba(60, 64, 67, 0.3), 0px 1px 3px 1px rgba(60, 64, 67, 0.15);\n",
              "      fill: #174EA6;\n",
              "    }\n",
              "\n",
              "    .colab-df-buttons div {\n",
              "      margin-bottom: 4px;\n",
              "    }\n",
              "\n",
              "    [theme=dark] .colab-df-convert {\n",
              "      background-color: #3B4455;\n",
              "      fill: #D2E3FC;\n",
              "    }\n",
              "\n",
              "    [theme=dark] .colab-df-convert:hover {\n",
              "      background-color: #434B5C;\n",
              "      box-shadow: 0px 1px 3px 1px rgba(0, 0, 0, 0.15);\n",
              "      filter: drop-shadow(0px 1px 2px rgba(0, 0, 0, 0.3));\n",
              "      fill: #FFFFFF;\n",
              "    }\n",
              "  </style>\n",
              "\n",
              "    <script>\n",
              "      const buttonEl =\n",
              "        document.querySelector('#df-f6ad9dfd-4418-43fb-8a2e-f7660ed6081e button.colab-df-convert');\n",
              "      buttonEl.style.display =\n",
              "        google.colab.kernel.accessAllowed ? 'block' : 'none';\n",
              "\n",
              "      async function convertToInteractive(key) {\n",
              "        const element = document.querySelector('#df-f6ad9dfd-4418-43fb-8a2e-f7660ed6081e');\n",
              "        const dataTable =\n",
              "          await google.colab.kernel.invokeFunction('convertToInteractive',\n",
              "                                                    [key], {});\n",
              "        if (!dataTable) return;\n",
              "\n",
              "        const docLinkHtml = 'Like what you see? Visit the ' +\n",
              "          '<a target=\"_blank\" href=https://colab.research.google.com/notebooks/data_table.ipynb>data table notebook</a>'\n",
              "          + ' to learn more about interactive tables.';\n",
              "        element.innerHTML = '';\n",
              "        dataTable['output_type'] = 'display_data';\n",
              "        await google.colab.output.renderOutput(dataTable, element);\n",
              "        const docLink = document.createElement('div');\n",
              "        docLink.innerHTML = docLinkHtml;\n",
              "        element.appendChild(docLink);\n",
              "      }\n",
              "    </script>\n",
              "  </div>\n",
              "\n",
              "\n",
              "    </div>\n",
              "  </div>\n"
            ],
            "application/vnd.google.colaboratory.intrinsic+json": {
              "type": "dataframe",
              "summary": "{\n  \"name\": \"customer_df[customer_df['Customer No\",\n  \"rows\": 1,\n  \"fields\": [\n    {\n      \"column\": \"#\",\n      \"properties\": {\n        \"dtype\": \"number\",\n        \"std\": null,\n        \"min\": 129,\n        \"max\": 129,\n        \"num_unique_values\": 1,\n        \"samples\": [\n          129\n        ],\n        \"semantic_type\": \"\",\n        \"description\": \"\"\n      }\n    },\n    {\n      \"column\": \"Customer No.\",\n      \"properties\": {\n        \"dtype\": \"string\",\n        \"num_unique_values\": 1,\n        \"samples\": [\n          \"C001072\"\n        ],\n        \"semantic_type\": \"\",\n        \"description\": \"\"\n      }\n    },\n    {\n      \"column\": \"Customer Name\",\n      \"properties\": {\n        \"dtype\": \"string\",\n        \"num_unique_values\": 1,\n        \"samples\": [\n          \"APPLIED INDUSTRIAL TECHNOLOGIES\"\n        ],\n        \"semantic_type\": \"\",\n        \"description\": \"\"\n      }\n    },\n    {\n      \"column\": \"DPM Exempt\",\n      \"properties\": {\n        \"dtype\": \"string\",\n        \"num_unique_values\": 1,\n        \"samples\": [\n          \"N\"\n        ],\n        \"semantic_type\": \"\",\n        \"description\": \"\"\n      }\n    },\n    {\n      \"column\": \"Price List Name\",\n      \"properties\": {\n        \"dtype\": \"string\",\n        \"num_unique_values\": 1,\n        \"samples\": [\n          \"Good\"\n        ],\n        \"semantic_type\": \"\",\n        \"description\": \"\"\n      }\n    }\n  ]\n}"
            }
          },
          "metadata": {},
          "execution_count": 21
        }
      ]
    },
    {
      "cell_type": "code",
      "source": [
        "customer_df['Customer No.'].unique()"
      ],
      "metadata": {
        "colab": {
          "base_uri": "https://localhost:8080/"
        },
        "id": "PTyH1rg3mwjT",
        "outputId": "e04bcc8b-07e2-4a6a-8445-6a3ac97b9d3b"
      },
      "execution_count": 22,
      "outputs": [
        {
          "output_type": "execute_result",
          "data": {
            "text/plain": [
              "array(['C000002', 'C000014', 'C000021', ..., 'C111271', 'C111272',\n",
              "       'C180650'], dtype=object)"
            ]
          },
          "metadata": {},
          "execution_count": 22
        }
      ]
    },
    {
      "cell_type": "code",
      "source": [
        "no_list_1 = list(customer_df['Customer No.'].unique())\n",
        "no_list_2 = list(df['Customer.No.'].unique())\n",
        "print(f'Length of the updated file is {len(no_list_1)}')\n",
        "print(f'Length of the original file is {len(no_list_2)}')\n",
        "no_list_2 in no_list_1"
      ],
      "metadata": {
        "colab": {
          "base_uri": "https://localhost:8080/"
        },
        "id": "7wRqcgPdcZWr",
        "outputId": "e318e570-3b91-4823-e4ae-fda3b4cfe5cc"
      },
      "execution_count": 23,
      "outputs": [
        {
          "output_type": "stream",
          "name": "stdout",
          "text": [
            "Length of the updated file is 3595\n",
            "Length of the original file is 2084\n"
          ]
        },
        {
          "output_type": "execute_result",
          "data": {
            "text/plain": [
              "False"
            ]
          },
          "metadata": {},
          "execution_count": 23
        }
      ]
    },
    {
      "cell_type": "code",
      "source": [
        "customer_dict = dict(zip(customer_df['Customer No.'],customer_df['Customer Name']))"
      ],
      "metadata": {
        "id": "Aj3nXDWgmZe5"
      },
      "execution_count": 24,
      "outputs": []
    },
    {
      "cell_type": "code",
      "source": [
        "def map_customer_name(row):\n",
        "  if row['Customer.No.'] in customer_dict.keys():\n",
        "    return customer_dict.get(row['Customer.No.'])\n",
        "  else:\n",
        "    return row['Customer.Name']"
      ],
      "metadata": {
        "id": "zMtARC-4nm77"
      },
      "execution_count": 25,
      "outputs": []
    },
    {
      "cell_type": "code",
      "source": [
        "df['customer_name'] = df.apply(map_customer_name, axis=1)"
      ],
      "metadata": {
        "id": "aG5GN3FfnRlY"
      },
      "execution_count": 26,
      "outputs": []
    },
    {
      "cell_type": "markdown",
      "source": [
        "#### Map the customer category"
      ],
      "metadata": {
        "id": "gVgDHscdoxgd"
      }
    },
    {
      "cell_type": "code",
      "source": [
        "category_dict = dict(zip(customer_df['Customer No.'],customer_df['Price List Name']))"
      ],
      "metadata": {
        "id": "C_1YcA-jo4Cr"
      },
      "execution_count": 27,
      "outputs": []
    },
    {
      "cell_type": "code",
      "source": [
        "def map_category(row):\n",
        "  if row['Customer.No.'] in category_dict.keys():\n",
        "    return category_dict.get(row['Customer.No.'])\n",
        "  else:\n",
        "    return row['Customer.Category']"
      ],
      "metadata": {
        "id": "4i2vJo8DpFWC"
      },
      "execution_count": 28,
      "outputs": []
    },
    {
      "cell_type": "code",
      "source": [
        "df['customer_category'] = df.apply(map_category, axis=1)"
      ],
      "metadata": {
        "id": "tpF7oeq3ptf_"
      },
      "execution_count": 29,
      "outputs": []
    },
    {
      "cell_type": "code",
      "source": [
        "df['customer_category'].value_counts()"
      ],
      "metadata": {
        "colab": {
          "base_uri": "https://localhost:8080/"
        },
        "id": "GQZfSK7Tp9aq",
        "outputId": "14b264e4-28af-434f-8a94-edaeb07a28a6"
      },
      "execution_count": 30,
      "outputs": [
        {
          "output_type": "execute_result",
          "data": {
            "text/plain": [
              "Good            611198\n",
              "Better          333080\n",
              "Best            170152\n",
              "Average Cost     17723\n",
              "List Price        1399\n",
              "M1                 464\n",
              "P4                 290\n",
              "P1                 268\n",
              "P3                  90\n",
              "P2                  66\n",
              "M4                  29\n",
              "P5                  10\n",
              "Name: customer_category, dtype: int64"
            ]
          },
          "metadata": {},
          "execution_count": 30
        }
      ]
    },
    {
      "cell_type": "markdown",
      "source": [
        "Check whether the customer belongs to a category consistently\n",
        "\n",
        "> Unfortunately there are about 1507 has inconsistent customer categories."
      ],
      "metadata": {
        "id": "1VNXtNputMSo"
      }
    },
    {
      "cell_type": "code",
      "source": [
        "df[(df['Customer.Category'] != df['customer_category'])&(~df['Customer.Category'].isnull())]['Customer.No.'].nunique()"
      ],
      "metadata": {
        "colab": {
          "base_uri": "https://localhost:8080/"
        },
        "id": "xEMRKr7osb5J",
        "outputId": "c0f309f7-286b-4e53-9eda-e1413007e2a0"
      },
      "execution_count": 31,
      "outputs": [
        {
          "output_type": "execute_result",
          "data": {
            "text/plain": [
              "1507"
            ]
          },
          "metadata": {},
          "execution_count": 31
        }
      ]
    },
    {
      "cell_type": "markdown",
      "source": [
        "#### Mark AMECO sub companies"
      ],
      "metadata": {
        "id": "COwQmZV0AlSs"
      }
    },
    {
      "cell_type": "code",
      "source": [
        "def mark_own_company(row):\n",
        "  if row['customer_name'] in [\n",
        "    \"F&M MAFCO, INC\",\n",
        "    \"CHRISTIANSTED EQUIPMENT, LTD.\",\n",
        "    \"F&M MAFCO LLC\",\n",
        "    \"EQUIPMENTSHARE.COM INC\",\n",
        "    \"AMECO IC\",\n",
        "    \"AMECO CANADA IC\",\n",
        "    \"AMECO IC - VISTRA\",\n",
        "    \"AMECO SERVICES INC (TRANSMOUNTAIN)\"]:\n",
        "    return True\n",
        "  else:\n",
        "    return False\n"
      ],
      "metadata": {
        "id": "n7Y-HSmOA0Og"
      },
      "execution_count": 32,
      "outputs": []
    },
    {
      "cell_type": "code",
      "source": [
        "df['Own'] = df.apply(mark_own_company,axis=1)"
      ],
      "metadata": {
        "id": "hVPvzgA3Aqv5"
      },
      "execution_count": 33,
      "outputs": []
    },
    {
      "cell_type": "code",
      "source": [
        "df['Own'].value_counts()"
      ],
      "metadata": {
        "colab": {
          "base_uri": "https://localhost:8080/"
        },
        "id": "yTYHKqWUCNiR",
        "outputId": "0e7e807f-e106-4cb8-9538-a2fbc316b6bb"
      },
      "execution_count": 34,
      "outputs": [
        {
          "output_type": "execute_result",
          "data": {
            "text/plain": [
              "False    1102450\n",
              "True       32319\n",
              "Name: Own, dtype: int64"
            ]
          },
          "metadata": {},
          "execution_count": 34
        }
      ]
    },
    {
      "cell_type": "markdown",
      "source": [
        "### Transform Datetime"
      ],
      "metadata": {
        "id": "pmRthJF3XGc1"
      }
    },
    {
      "cell_type": "code",
      "source": [
        "## date time\n",
        "df['Invoice.Date'] = pd.to_datetime(df['Invoice.Date'])\n",
        "df['Year'] = df['Invoice.Date'].dt.year\n",
        "df['Month'] = df['Invoice.Date'].dt.month\n",
        "df['Quarter'] = df['Invoice.Date'].dt.to_period('Q')"
      ],
      "metadata": {
        "id": "IqlqyyqbVQ4M"
      },
      "execution_count": 35,
      "outputs": []
    },
    {
      "cell_type": "code",
      "source": [
        "def map_quarter(row):\n",
        "  if row['Year'] == 2016:\n",
        "    return row['Quarter']\n",
        "  elif row ['Year'] == 2020:\n",
        "    return Period('2019Q1', freq='Q-DEC')\n",
        "  else:\n",
        "    return row['Quarter'] - 4\n",
        "df['Prev_Quarter'] = df.apply(map_quarter, axis=1)\n",
        "df['Prev_Quarter'] = df['Prev_Quarter'].apply(lambda x: Period(x, freq='Q-DEC'))"
      ],
      "metadata": {
        "id": "NavVjsoHWMXK"
      },
      "execution_count": null,
      "outputs": []
    },
    {
      "cell_type": "markdown",
      "source": [
        "### Flag"
      ],
      "metadata": {
        "id": "bSDx5wtAXswh"
      }
    },
    {
      "cell_type": "code",
      "source": [
        "## Flag mapping\n",
        "def stock_flag(row):\n",
        "    if row['Stock.Status'] == 'S' or row['Stock.Status'] == 'Stock':\n",
        "        return 'Y'\n",
        "    elif row['Stock.Status'] == 'N' or row['Stock.Status'] == 'Non Stock':\n",
        "        return 'N'\n",
        "    else:\n",
        "      if row['Strikeforce.Flag'] == 'Y':\n",
        "        return 'Y'\n",
        "      elif row['Strikeforce.Flag'] == 'N':\n",
        "        return 'N'\n",
        "      else:\n",
        "        return 'Y'\n",
        "\n",
        "df['Stock.Flag'] = df.apply(stock_flag, axis=1)"
      ],
      "metadata": {
        "id": "GykWYcH2Xt-6"
      },
      "execution_count": null,
      "outputs": []
    },
    {
      "cell_type": "code",
      "source": [
        "df.drop(columns={'Strikeforce.Flag','Stock.Flag'},inplace=True)"
      ],
      "metadata": {
        "id": "ahSCE1vdZVx3"
      },
      "execution_count": null,
      "outputs": []
    },
    {
      "cell_type": "markdown",
      "source": [
        "### Item group & Product Classification"
      ],
      "metadata": {
        "id": "rPMFgvuYXQYS"
      }
    },
    {
      "cell_type": "code",
      "source": [
        "## Item group and product classification\n",
        "def fill_missing_most_frequent(group):\n",
        "    mode_values = group.mode()\n",
        "    if not mode_values.empty:\n",
        "        mode_value = mode_values.iloc[0]\n",
        "        return group.fillna(mode_value)\n",
        "    else:\n",
        "        return group\n",
        "\n",
        "df['Product.Classification'] = df.groupby('Item.No.')['Product.Classification'].transform(fill_missing_most_frequent)\n",
        "df['Item.Group'] = df.groupby('Item.No.')['Item.Group'].transform(fill_missing_most_frequent)"
      ],
      "metadata": {
        "id": "AzfaeF4vXTal"
      },
      "execution_count": null,
      "outputs": []
    },
    {
      "cell_type": "markdown",
      "source": [
        "### Final Dataset"
      ],
      "metadata": {
        "id": "32lvNaRUsEsd"
      }
    },
    {
      "cell_type": "code",
      "source": [
        "df.drop(columns=['X.','Customer.Name'],inplace=True)"
      ],
      "metadata": {
        "id": "xtZmQRwCsDVh"
      },
      "execution_count": null,
      "outputs": []
    },
    {
      "cell_type": "code",
      "source": [
        "#df.to_csv('/content/drive/MyDrive/Capstone Data/updated_customer_dataset.csv',index=False)"
      ],
      "metadata": {
        "id": "z1S9DjuNvSYh"
      },
      "execution_count": null,
      "outputs": []
    },
    {
      "cell_type": "code",
      "source": [
        "df"
      ],
      "metadata": {
        "id": "JNHY_KoUve1_"
      },
      "execution_count": null,
      "outputs": []
    },
    {
      "cell_type": "markdown",
      "source": [
        "## Target Profit Margin Dataset"
      ],
      "metadata": {
        "id": "iba7FOj105Tq"
      }
    },
    {
      "cell_type": "code",
      "source": [
        "tg_pm_df = pd.read_csv('/content/drive/MyDrive/Capstone Data/target_margin.csv',skiprows=2,usecols=[0,1,2,3,4,17,18,19])"
      ],
      "metadata": {
        "id": "1xh0gJDb09Fp"
      },
      "execution_count": null,
      "outputs": []
    },
    {
      "cell_type": "code",
      "source": [
        "tg_pm_df = tg_pm_df.rename(columns=lambda x:x.strip())"
      ],
      "metadata": {
        "id": "hmxsfX6D9HHv"
      },
      "execution_count": null,
      "outputs": []
    },
    {
      "cell_type": "code",
      "source": [
        "tg_pm_df = tg_pm_df.melt(id_vars=['Product Class'],value_vars=['Good','Better','Best'],var_name='Category',value_name='Values')"
      ],
      "metadata": {
        "id": "D_aeY8mn5Lxe"
      },
      "execution_count": null,
      "outputs": []
    },
    {
      "cell_type": "code",
      "source": [
        "tg_pm_df[tg_pm_df['Product Class']=='POWACC']"
      ],
      "metadata": {
        "id": "gQm4AcJ29pUq"
      },
      "execution_count": null,
      "outputs": []
    },
    {
      "cell_type": "code",
      "source": [
        "target_product_ls = list(tg_pm_df['Product Class'].unique())"
      ],
      "metadata": {
        "id": "WVJiqmZF-cgJ"
      },
      "execution_count": null,
      "outputs": []
    },
    {
      "cell_type": "markdown",
      "source": [
        "We do have some information about 21.22 expected profit margin, but might not be helpful since they have 5 categories."
      ],
      "metadata": {
        "id": "DaMyOVrT4znA"
      }
    },
    {
      "cell_type": "markdown",
      "source": [
        "## Profit Margin Exploration"
      ],
      "metadata": {
        "id": "ddj1MDcWIAkk"
      }
    },
    {
      "cell_type": "markdown",
      "source": [
        "#### Calculate profit margin for the entire dataset"
      ],
      "metadata": {
        "id": "2Qp_suTNVIKv"
      }
    },
    {
      "cell_type": "code",
      "source": [
        "df.columns"
      ],
      "metadata": {
        "id": "7eP5AJQe5tW0"
      },
      "execution_count": null,
      "outputs": []
    },
    {
      "cell_type": "code",
      "source": [
        "profit_df = df[['Customer.No.','customer_name', 'customer_category','Own','Year', 'Month',\n",
        "       'Quarter', 'Prev_Quarter','Ship.To.State', 'Invoice.Date',\n",
        "       'Stock.Status', 'Item.No.', 'Item.Group', 'Product.Classification',\n",
        "       'UoM.Code', 'Quantity', 'Inventory.Cost', 'Price']]"
      ],
      "metadata": {
        "id": "QvgPqMqfwjYK"
      },
      "execution_count": null,
      "outputs": []
    },
    {
      "cell_type": "code",
      "source": [
        "# profit_df['Actual Margin'] = (profit_df['Price'] * profit_df['Quantity'] - profit_df['Inventory.Cost'] * profit_df['Quantity'])/(profit_df['Price'] * profit_df['Quantity'])*100\n",
        "profit_df['Actual Margin'] = (profit_df['Price'] - profit_df['Inventory.Cost'])/(profit_df['Price'])*100"
      ],
      "metadata": {
        "id": "49ldm-ifUuQN"
      },
      "execution_count": null,
      "outputs": []
    },
    {
      "cell_type": "code",
      "source": [
        "# profit_df = profit_df.query('Own == False')\n",
        "ex_own_profit_df = profit_df[profit_df['Own'] == False]"
      ],
      "metadata": {
        "id": "0CgXuo0wzIUt"
      },
      "execution_count": null,
      "outputs": []
    },
    {
      "cell_type": "code",
      "source": [
        "ex_own_profit_df"
      ],
      "metadata": {
        "id": "P8WCKsCQC5M2"
      },
      "execution_count": null,
      "outputs": []
    },
    {
      "cell_type": "markdown",
      "source": [
        "#### Profit 2020-2023 Dataset Calculations"
      ],
      "metadata": {
        "id": "2RgjznF8Xqhv"
      }
    },
    {
      "cell_type": "markdown",
      "source": [],
      "metadata": {
        "id": "T8m5lcjpX8vy"
      }
    },
    {
      "cell_type": "markdown",
      "source": [
        "#### Profit 2022 Dataset"
      ],
      "metadata": {
        "id": "odzrsXJrELZn"
      }
    },
    {
      "cell_type": "code",
      "source": [
        "ex_own_profit_df_22 = ex_own_profit_df[ex_own_profit_df['Year']==2022]"
      ],
      "metadata": {
        "id": "NSUgWdudEHl2"
      },
      "execution_count": null,
      "outputs": []
    },
    {
      "cell_type": "code",
      "source": [
        "ex_own_profit_df_22['customer_category'].value_counts()"
      ],
      "metadata": {
        "id": "LO9fiPhyEOZz"
      },
      "execution_count": null,
      "outputs": []
    },
    {
      "cell_type": "code",
      "source": [
        "ex_own_profit_df_22 = ex_own_profit_df_22[ex_own_profit_df_22['customer_category'] != 'List Price']"
      ],
      "metadata": {
        "id": "JCkXBVLqETMH"
      },
      "execution_count": null,
      "outputs": []
    },
    {
      "cell_type": "code",
      "source": [
        "product_list = list(ex_own_profit_df_22['Product.Classification'].unique())"
      ],
      "metadata": {
        "id": "HRBsrDcaEUQf"
      },
      "execution_count": null,
      "outputs": []
    },
    {
      "cell_type": "code",
      "source": [
        "print(f'The unique number of products in the original dataset is {len(target_product_ls)}')\n",
        "print(f'The unique number of products in the target dataset is {len(product_list)}')"
      ],
      "metadata": {
        "id": "vkWZWUUTEXGK"
      },
      "execution_count": null,
      "outputs": []
    },
    {
      "cell_type": "code",
      "source": [
        "ex_own_profit_df_22['Item.Group'].value_counts()"
      ],
      "metadata": {
        "id": "scybzmjwEwlU"
      },
      "execution_count": null,
      "outputs": []
    },
    {
      "cell_type": "code",
      "source": [],
      "metadata": {
        "id": "5yId5Vt_X4lW"
      },
      "execution_count": null,
      "outputs": []
    },
    {
      "cell_type": "markdown",
      "source": [
        "#### Profit 2023 Dataset"
      ],
      "metadata": {
        "id": "S6GNCLm2zeGU"
      }
    },
    {
      "cell_type": "code",
      "source": [
        "ex_own_profit_df_23 = ex_own_profit_df[ex_own_profit_df['Year']==2023]"
      ],
      "metadata": {
        "id": "kvavWmCjzOEU"
      },
      "execution_count": null,
      "outputs": []
    },
    {
      "cell_type": "code",
      "source": [
        "ex_own_profit_df_23['customer_category'].value_counts()"
      ],
      "metadata": {
        "id": "JtjYvuaazXWL"
      },
      "execution_count": null,
      "outputs": []
    },
    {
      "cell_type": "code",
      "source": [
        "ex_own_profit_df_23 = ex_own_profit_df_23[ex_own_profit_df_23['customer_category'] != 'List Price']"
      ],
      "metadata": {
        "id": "-HA0tI4azdJA"
      },
      "execution_count": null,
      "outputs": []
    },
    {
      "cell_type": "code",
      "source": [
        "product_list = list(ex_own_profit_df_23['Product.Classification'].unique())"
      ],
      "metadata": {
        "id": "cVzmQIeb-JVX"
      },
      "execution_count": null,
      "outputs": []
    },
    {
      "cell_type": "code",
      "source": [
        "print(f'The unique number of products in the original dataset is {len(target_product_ls)}')\n",
        "print(f'The unique number of products in the target dataset is {len(product_list)}')"
      ],
      "metadata": {
        "id": "9Xnt4hR7-Z0Y"
      },
      "execution_count": null,
      "outputs": []
    },
    {
      "cell_type": "code",
      "source": [
        "ex_own_profit_df_23"
      ],
      "metadata": {
        "id": "xH7BE3Za1RUh"
      },
      "execution_count": null,
      "outputs": []
    },
    {
      "cell_type": "code",
      "source": [
        "ex_own_profit_df_23['Item.Group'].value_counts()"
      ],
      "metadata": {
        "id": "K3BizGfM1eBx"
      },
      "execution_count": null,
      "outputs": []
    },
    {
      "cell_type": "markdown",
      "source": [
        "#### Calculate the proportion of target"
      ],
      "metadata": {
        "id": "HYoRrJ2vFXLW"
      }
    },
    {
      "cell_type": "markdown",
      "source": [
        "### Calculating the profit margin 2023\n",
        "\n",
        "Here we can have two methods, not sure if that matters or not\n",
        "but\n",
        "a) calculate the profit margin for each transaction and then do an average\n",
        "b) adding up the quantity price cost and then do a calculation"
      ],
      "metadata": {
        "id": "imIJ2UKMDrW4"
      }
    },
    {
      "cell_type": "code",
      "source": [
        "calc_profit_tb = ex_own_profit_df_23.groupby(['Item.Group','Product.Classification','customer_category',])['Actual Margin','Price'].mean().reset_index()"
      ],
      "metadata": {
        "id": "MiDb7bFNENiS"
      },
      "execution_count": null,
      "outputs": []
    },
    {
      "cell_type": "code",
      "source": [
        "calc_profit_tb = calc_profit_tb.rename(columns = {'Product.Classification':'Product Class','customer_category': 'Category'})\n",
        "calc_profit_tb"
      ],
      "metadata": {
        "id": "QK626FpTPPgz"
      },
      "execution_count": null,
      "outputs": []
    },
    {
      "cell_type": "code",
      "source": [
        "final_df_23 = calc_profit_tb.merge(tg_pm_df, on=['Product Class', 'Category'])\n",
        "final_df_23"
      ],
      "metadata": {
        "id": "-WJmR6z_3dF7"
      },
      "execution_count": null,
      "outputs": []
    },
    {
      "cell_type": "code",
      "source": [
        "final_df_23.to_csv('/content/drive/MyDrive/Capstone Data/2023_pm_data.csv',index=False)"
      ],
      "metadata": {
        "id": "NFqi24haKJC-"
      },
      "execution_count": null,
      "outputs": []
    },
    {
      "cell_type": "code",
      "source": [
        "final_df_23['Item.Group'].value_counts()"
      ],
      "metadata": {
        "id": "tXtqA4oi2A16"
      },
      "execution_count": null,
      "outputs": []
    },
    {
      "cell_type": "code",
      "source": [
        "final_df_23 = final_df_23.rename(columns={'Values':'Target Margin'})\n",
        "final_df_23 = final_df_23[final_df_23['Item.Group']!='OPN001']"
      ],
      "metadata": {
        "id": "5mR2iNL62cPu"
      },
      "execution_count": null,
      "outputs": []
    },
    {
      "cell_type": "code",
      "source": [
        "final_df_23 = final_df_23.sort_values(['Item.Group','Product Class'])"
      ],
      "metadata": {
        "id": "57ao2wwM6216"
      },
      "execution_count": null,
      "outputs": []
    },
    {
      "cell_type": "code",
      "source": [
        "final_df_23['Target Margin'] = final_df_23['Target Margin'].str.replace('%', '').astype(float)"
      ],
      "metadata": {
        "id": "qXDrT7Of_YXF"
      },
      "execution_count": null,
      "outputs": []
    },
    {
      "cell_type": "code",
      "source": [
        "def plot_margin(df, customer_category):\n",
        "  df = df[df['Category']==customer_category]\n",
        "  plt.figure(figsize=(10, 6))\n",
        "  sns.scatterplot(data=df, x=df[\"Product Class\"], y=df['Actual Margin']-df[\"Target Margin\"], hue=\"Item.Group\")\n",
        "  # Remove tick labels for x-axis\n",
        "  plt.xticks([])\n",
        "  plt.ylabel('Difference')\n",
        "  plt.title(f'The Difference between Expected Profit Margin and Actual Profit Margin in 2023 by\\\n",
        "  Product Class and {customer_category} Customer.')\n",
        "  plt.axhline(y=0, color=\"black\", linestyle=\"--\")\n",
        "  for index, row in df.iterrows():\n",
        "        difference = row['Actual Margin'] - row['Target Margin']\n",
        "        if difference < -10:  # Define your threshold for large values\n",
        "            plt.text(row[\"Product Class\"], difference, f\"{row['Product Class']}: {difference:.2f}\", ha='center', va='bottom', fontsize=8, color='blue')\n",
        "  plt.show()"
      ],
      "metadata": {
        "id": "leOSSwoX4Rqm"
      },
      "execution_count": null,
      "outputs": []
    },
    {
      "cell_type": "code",
      "source": [
        "customer_list = final_df_23['Category'].unique()\n",
        "for each in customer_list:\n",
        "  plot_margin(final_df_23,each)"
      ],
      "metadata": {
        "id": "rLlVTkbo-kHE"
      },
      "execution_count": null,
      "outputs": []
    },
    {
      "cell_type": "markdown",
      "source": [
        "Many large differences"
      ],
      "metadata": {
        "id": "V7HOW1mZAIvy"
      }
    },
    {
      "cell_type": "code",
      "source": [
        "final_df_23_sorted = final_df_23.sort_values(by='Actual Margin', ascending=True)\n",
        "final_df_23_sorted"
      ],
      "metadata": {
        "id": "Lcl7Nhk7_7gx"
      },
      "execution_count": null,
      "outputs": []
    },
    {
      "cell_type": "code",
      "source": [
        "calc_profit_df[(calc_profit_df['Product.Classification'] == 'WLDGAS') & (calc_profit_df['Category'] == 'Good')]"
      ],
      "metadata": {
        "id": "d4XdJCwrAbjp"
      },
      "execution_count": null,
      "outputs": []
    },
    {
      "cell_type": "code",
      "source": [
        "calc_profit_tb2=calc_profit_df.groupby(['Item.Group','Product.Classification','UoM.Code','customer_category',]).apply(\n",
        "    lambda row:(100*((row['Price']-row['Inventory.Cost'])*row['Quantity'].sum()))/(row['Price']*row['Quantity'].sum())).reset_index()"
      ],
      "metadata": {
        "id": "ySOatl69P-ZK"
      },
      "execution_count": null,
      "outputs": []
    },
    {
      "cell_type": "code",
      "source": [
        "calc_profit_tb2"
      ],
      "metadata": {
        "id": "IgvE0SpbQ1Zy"
      },
      "execution_count": null,
      "outputs": []
    },
    {
      "cell_type": "markdown",
      "source": [
        "### Wang jiahua"
      ],
      "metadata": {
        "id": "m7Nvgud5_swy"
      }
    },
    {
      "cell_type": "code",
      "source": [
        "#Jiahua Wang Start\n",
        "product_class = good_customer_df[(good_customer_df['Item.Group'] == 'Welding Equip WS/SD') | (good_customer_df['Item.Group'] == 'Const Supplies CS/SD')]['Product.Classification'].unique()\n",
        "len(product_class)"
      ],
      "metadata": {
        "id": "qEYAfgF5PSfT"
      },
      "execution_count": null,
      "outputs": []
    },
    {
      "cell_type": "code",
      "source": [
        "good_customer_df[good_customer_df['Product.Classification'].notna()]"
      ],
      "metadata": {
        "id": "JMwFj3g7Qcga"
      },
      "execution_count": null,
      "outputs": []
    },
    {
      "cell_type": "code",
      "source": [
        "#select all rows with product class in product_class\n",
        "good_customer_df_welding = good_customer_df[good_customer_df['Product.Classification'].isin(product_class)]\n",
        "good_customer_df_welding"
      ],
      "metadata": {
        "id": "aTmzdH3gPtYY"
      },
      "execution_count": null,
      "outputs": []
    },
    {
      "cell_type": "code",
      "source": [
        "good_customer_df_welding[good_customer_df_welding['Product.Classification'] == 'TIGPAR']"
      ],
      "metadata": {
        "id": "RzE1Fr8CWFta"
      },
      "execution_count": null,
      "outputs": []
    },
    {
      "cell_type": "code",
      "source": [
        "# for each year, generate profit margin of each product in product_class by calculating sum of (price * quantity) / sum of (inventory.cost * quantity)\n",
        "\n",
        "annual_profit_margin_product = {}\n",
        "for year in good_customer_df_welding['Year'].unique():\n",
        "  year_df = good_customer_df_welding[good_customer_df_welding['Year'] == year]\n",
        "  annual_profit_margin_product[year] = {}\n",
        "  for product in product_class:\n",
        "    product_df = year_df[year_df['Product.Classification'] == product]\n",
        "    revenue = (product_df['Price'] * product_df['Quantity']).sum()\n",
        "    cost = (product_df['Inventory.Cost'] * product_df['Quantity']).sum()\n",
        "    profit_margin = (revenue / cost - 1) * 100\n",
        "    annual_profit_margin_product[year][product] = profit_margin\n"
      ],
      "metadata": {
        "id": "AYtIl7kcTuJg"
      },
      "execution_count": null,
      "outputs": []
    },
    {
      "cell_type": "code",
      "source": [
        "good_customer_df_welding[good_customer_df_welding['Product.Classification'] == 'Welding Equip WS/SD']"
      ],
      "metadata": {
        "id": "d7TOXgCjoj-g"
      },
      "execution_count": null,
      "outputs": []
    },
    {
      "cell_type": "code",
      "source": [
        "df2 = pd.read_csv('/content/drive/MyDrive/Capstone Data/margin_final.csv', low_memory = False)\n",
        "df2"
      ],
      "metadata": {
        "id": "RTVPcKXxWr1Y"
      },
      "execution_count": null,
      "outputs": []
    },
    {
      "cell_type": "code",
      "source": [
        "# prompt: drop UoM.Code column and delete those duplicate rows\n",
        "df3 = df2.copy()\n",
        "df3.drop(columns=['UoM.Code','2016','2017','2018','2019','2020','2023'], inplace=True)\n",
        "df3.drop_duplicates(inplace=True)\n",
        "df3\n"
      ],
      "metadata": {
        "id": "GzhJ6gJhC5RV"
      },
      "execution_count": null,
      "outputs": []
    },
    {
      "cell_type": "code",
      "source": [
        "years = [2016,2017,2018,2019,2020,2023]\n",
        "for year in years:\n",
        "  df3[year] = df3['ProductClass'].apply(lambda x: annual_profit_margin_product[year][x])\n",
        "df3"
      ],
      "metadata": {
        "id": "CFnxQw36pYCU"
      },
      "execution_count": null,
      "outputs": []
    },
    {
      "cell_type": "code",
      "source": [
        "df3 = df3[(df3['Item.Group'] != 'Rental KO RE/ESG') & (df3['Item.Group'] != 'OPN001')]"
      ],
      "metadata": {
        "id": "itpTA2MGrw3A"
      },
      "execution_count": null,
      "outputs": []
    },
    {
      "cell_type": "code",
      "source": [
        "df3.to_csv('profit_margin.csv', index = False)"
      ],
      "metadata": {
        "id": "aUM77rffrOzx"
      },
      "execution_count": null,
      "outputs": []
    },
    {
      "cell_type": "code",
      "source": [
        "# Filter the DataFrame\n",
        "filtered_df = df3.loc[(df3['Item.Group'] == 'Const Supplies CS/SD') & df3[2023].notna()]\n",
        "\n",
        "# Check for NaN values and drop them\n",
        "filtered_df = filtered_df.dropna(subset=['Good', 2023])\n",
        "\n",
        "# Check for and remove infinite values\n",
        "filtered_df = filtered_df.replace([np.inf, -np.inf], np.nan).dropna(subset=['Good', 2023])\n",
        "\n",
        "# Now perform the t-test with the cleaned DataFrame\n",
        "t_statistic, p_value = stats.ttest_rel(filtered_df['Good'], filtered_df[2023])\n",
        "print(p_value)"
      ],
      "metadata": {
        "id": "JV0YE6lbmCEY"
      },
      "execution_count": null,
      "outputs": []
    },
    {
      "cell_type": "code",
      "source": [
        "# Filter the DataFrame\n",
        "filtered_df = df3.loc[(df3['Item.Group'] == 'Welding Equip WS/SD') & df3[2023].notna()]\n",
        "\n",
        "# Check for NaN values and drop them\n",
        "filtered_df = filtered_df.dropna(subset=['Good', 2023])\n",
        "\n",
        "# Check for and remove infinite values\n",
        "filtered_df = filtered_df.replace([np.inf, -np.inf], np.nan).dropna(subset=['Good', 2023])\n",
        "\n",
        "# Now perform the t-test with the cleaned DataFrame\n",
        "t_statistic, p_value = stats.ttest_rel(filtered_df['Good'], filtered_df[2023])\n",
        "print(p_value)"
      ],
      "metadata": {
        "id": "RnbauluZmR12"
      },
      "execution_count": null,
      "outputs": []
    },
    {
      "cell_type": "code",
      "source": [
        "# plot df3['ProductClass'] against df3['Good'] - df3[2023] in a scatterplot and delete tickers for productclass, but use different color for df3[Item.Group] == Const Supplies CS/SD and df3[Item.Group] == Welding Equip WS/SD, also add a horizontal line at 0\n",
        "\n",
        "import matplotlib.pyplot as plt\n",
        "import seaborn as sns\n",
        "\n",
        "# Create a scatterplot\n",
        "plt.figure(figsize=(10, 6))\n",
        "sns.scatterplot(data=df3, x=df3[\"ProductClass\"], y=df3[\"Good\"] - df3[2023], hue=\"Item.Group\")\n",
        "\n",
        "# Remove tick labels for x-axis\n",
        "plt.xticks([])\n",
        "plt.ylabel('Difference')\n",
        "plt.title('The Difference between Expected Profit Margin and Actual Profit Margin in 2023 by Product Class and Category')\n",
        "# Add a horizontal line at y=0\n",
        "plt.axhline(y=0, color=\"black\", linestyle=\"--\")\n",
        "\n",
        "# Show the plot\n",
        "plt.show()\n"
      ],
      "metadata": {
        "id": "Csn7lQjssPe-"
      },
      "execution_count": null,
      "outputs": []
    },
    {
      "cell_type": "code",
      "source": [
        "## Adding inflation\n",
        "inflation = pd.read_excel('/content/drive/MyDrive/Capstone Data/inflation.xlsx',skiprows=11)\n",
        "month_map = {'Jan': 1, 'Feb': 2, 'Mar': 3, 'Apr': 4, 'May': 5, 'Jun': 6, 'Jul': 7, 'Aug': 8, 'Sep': 9, 'Oct': 10, 'Nov': 11, 'Dec': 12}\n",
        "inflation.rename(columns=month_map, inplace=True)\n",
        "inflation.drop(columns=['HALF1','HALF2'],inplace=True)\n",
        "melted_inflation = pd.melt(inflation, id_vars=['Year'], var_name='Month', value_name='Inflation')"
      ],
      "metadata": {
        "id": "WM6_c7g-fVr_"
      },
      "execution_count": null,
      "outputs": []
    },
    {
      "cell_type": "code",
      "source": [
        "## Map Regions\n",
        "state_to_region = {\n",
        "    # Pacific\n",
        "    'CA': 'Pacific', 'WA': 'Pacific', 'OR': 'Pacific', 'AK': 'Pacific', 'HI': 'Pacific',\n",
        "    # West\n",
        "    'MT':'West','ND':'West','ID': 'West', 'SD':'West', 'WY': 'West', 'NE':'West','NV':'West','UT': 'West','CO':'West','AZ':'West','NM':'West',\n",
        "    # Midwest\n",
        "    'IL': 'Midwest', 'OH': 'Midwest', 'MI': 'Midwest', 'IN': 'Midwest', 'WI': 'Midwest', 'IA': 'Midwest', 'MN': 'Midwest', 'MO': 'Midwest', 'KS': 'Midwest', 'NE': 'Midwest', 'SD': 'Midwest', 'ND': 'Midwest', 'KY':'Midwest', 'WV': 'Midwest',\n",
        "    # Central\n",
        "    'KS' : 'Central', 'MO': 'Central', 'TN': 'Central', 'OK' : 'Central', 'AR': 'Central',\n",
        "    # Gulf Coast\n",
        "    'TX': 'Gulf_Coast','LA': 'Gulf_Coast', 'MS': 'Gulf_Coast', 'AL': 'Gulf_Coast', 'GA': 'Gulf_Coast', 'FL': 'Gulf_Coast',\n",
        "    # Mid-Atlantic\n",
        "    'PA' : 'Mid-Atlantic',  'NJ': 'Mid-Atlantic', 'DE':'Mid-Atlantic', 'MD':'Mid-Atlantic', 'VA':'Mid-Atlantic', 'NC':'Mid-Atlantic', 'SC': 'Mid-Atlantic',\n",
        "    # Northeast\n",
        "    'NY': 'Northeast', 'CT': 'Northeast', 'MA': 'Northeast', 'RI': 'Northeast', 'VT': 'Northeast', 'NH': 'Northeast', 'ME': 'Northeast',\n",
        "    # # Northeast\n",
        "    # 'NY': 'Northeast', 'NJ': 'Northeast', 'PA': 'Northeast', 'CT': 'Northeast', 'MA': 'Northeast', 'RI': 'Northeast', 'VT': 'Northeast', 'NH': 'Northeast', 'ME': 'Northeast', 'MD': 'Northeast',\n",
        "    # # Southeast\n",
        "    # 'DE': 'Southeast', 'WV': 'Southeast', 'VA': 'Southeast', 'NC': 'Southeast', 'SC': 'Southeast', 'GA': 'Southeast', 'FL': 'Southeast', 'DC': 'Southeast', 'KY': 'Southeast','TN':'Southeast','AR': 'Southeast','MS':'Southeast','AL':'Southeast','LA':'Southeast',\n",
        "    # # East\n",
        "    # 'NY': 'East', 'NJ': 'East', 'PA': 'East', 'CT': 'East', 'MA': 'East', 'RI': 'East', 'VT': 'East', 'NH': 'East', 'ME': 'East', 'MD': 'East',\n",
        "    # # Southeast\n",
        "    # 'DE': 'East', 'WV': 'East', 'VA': 'East', 'NC': 'East', 'SC': 'East', 'GA': 'East', 'FL': 'East', 'DC': 'East', 'KY': 'East','TN':'East','AR': 'East','MS':'East','AL':'East','LA':'East',\n",
        "    # # Southwest\n",
        "    # 'TX': 'Southwest', 'AZ': 'Southwest', 'NM': 'Southwest', 'OK': 'Southwest',\n",
        "    # # Other\n",
        "    # 'BC':'Other','AB':'Other','QC':'Other'\n",
        "}\n",
        "\n",
        "df['Ship.To.State'] = df['Ship.To.State'].replace(state_to_region)"
      ],
      "metadata": {
        "id": "4R6Vzn7Mfk4D"
      },
      "execution_count": null,
      "outputs": []
    },
    {
      "cell_type": "code",
      "source": [
        "## Final dataset\n",
        "merged_df = pd.merge(good_customer_df_welding, melted_inflation, on=['Year', 'Month'], how='left')\n",
        "columns_to_keep = ['Customer.Name','Customer.Category','Ship.To.State','Item.No.','Item.Group','Product.Classification','UoM.Code','Quantity','Stock.Flag','Inventory.Cost','Price','DPM.Factor','DPM.Price','Invoice.Date','Year','Month','Quarter','Inflation','Prev_Quarter']\n",
        "df = merged_df[columns_to_keep]"
      ],
      "metadata": {
        "id": "uXsdadIkfp09"
      },
      "execution_count": null,
      "outputs": []
    },
    {
      "cell_type": "code",
      "source": [
        "grouped_df = df.groupby(['Item.No.', 'Quarter'])\n",
        "mean_prices = grouped_df['Price'].mean().reset_index()\n",
        "mean_prices_dict = mean_prices.set_index(['Item.No.','Quarter']).to_dict()['Price']\n",
        "df['prev_quar_price'] = df.apply(lambda row: mean_prices_dict.get((row['Item.No.'],row['Prev_Quarter'])),axis=1)"
      ],
      "metadata": {
        "id": "eq58dw4Rfx4P"
      },
      "execution_count": null,
      "outputs": []
    },
    {
      "cell_type": "code",
      "source": [
        "final_df = df[(df['UoM.Code'] == 'EA') &\n",
        "                    (df['Customer.Category'] == 'Good') &\n",
        "                    ((df['Item.Group'] == 'Const Supplies CS/SD') |\n",
        "                     (df['Item.Group'] == 'Welding Equip WS/SD')) &\n",
        "                      (df['Inventory.Cost'] > 0) &\n",
        "                      (df['Price'] > 0)]\n",
        "final_df.rename(columns={'DPM.Factor':'Factor','DPM.Price':'DPMPrice','Customer.Name':'Name','Customer.Category': 'Category', 'Item.No.':'Item','UoM.Code':'UoM','Stock.Flag':'Stock','Inventory.Cost':'Cost','Invoice.Date':'Date','Product.Classification':'Classification','Item.Group':'Group','Ship.To.State':'State'}, inplace=True)"
      ],
      "metadata": {
        "id": "16Y8oufSglfM"
      },
      "execution_count": null,
      "outputs": []
    },
    {
      "cell_type": "code",
      "source": [
        "#Build Model\n",
        "import statsmodels.formula.api as smf"
      ],
      "metadata": {
        "id": "R1BOJp5ahI50"
      },
      "execution_count": null,
      "outputs": []
    },
    {
      "cell_type": "code",
      "source": [
        "train_df = final_df[final_df['Year']!=2023]\n",
        "train_df['log_Price'] = train_df['Price'].apply(lambda x: np.log(x))\n",
        "train_df['log_Cost'] = train_df['Cost'].apply(lambda x: np.log(x))\n",
        "train_df['log_prev_quar_price'] = train_df['prev_quar_price'].apply(lambda x: np.log(x))"
      ],
      "metadata": {
        "id": "kHZJi0nditIR"
      },
      "execution_count": null,
      "outputs": []
    },
    {
      "cell_type": "code",
      "source": [
        "formula = 'log_Price ~ C(Group) + C(Stock) + log_Cost + Quantity'\n",
        "model = smf.ols(formula=formula, data=train_df).fit()\n",
        "\n",
        "print(model.summary())"
      ],
      "metadata": {
        "id": "ztwO-OzajDio"
      },
      "execution_count": null,
      "outputs": []
    },
    {
      "cell_type": "code",
      "source": [
        "\n",
        "APPFLA_df = good_customer_df_welding[good_customer_df_welding['Product.Classification'] == 'SAFVIS']\n",
        "plt.scatter(APPFLA_df['Quantity'], APPFLA_df['Price'])"
      ],
      "metadata": {
        "id": "eTwRpLKnmL7W"
      },
      "execution_count": null,
      "outputs": []
    },
    {
      "cell_type": "code",
      "source": [
        "# Step 1: Calculate Price-to-Cost Ratio\n",
        "APPFLA_df['Price-to-Cost Ratio'] = APPFLA_df['Price'] / APPFLA_df['Inventory.Cost']\n",
        "\n",
        "# Step 2: Determine Base Price-to-Cost Ratio (e.g., for the smallest quantity)\n",
        "base_ratio = APPFLA_df.loc[APPFLA_df['Quantity'] == APPFLA_df['Quantity'].min(), 'Price-to-Cost Ratio'].mean()\n",
        "\n",
        "# Step 3: Calculate Discount Rate\n",
        "APPFLA_df['Discount Rate (%)'] = (1 - APPFLA_df['Price-to-Cost Ratio'] / base_ratio) * 100"
      ],
      "metadata": {
        "id": "PhUArGETqKql"
      },
      "execution_count": null,
      "outputs": []
    },
    {
      "cell_type": "code",
      "source": [
        "# prompt: find average price-to-cost ratio at each quantity existed in APPFLA_df\n",
        "\n",
        "import pandas as pd\n",
        "\n",
        "# Calculate the average price-to-cost ratio for each quantity\n",
        "average_ratios = APPFLA_df.groupby('Quantity')['Price-to-Cost Ratio'].mean()\n",
        "\n",
        "# Print the average price-to-cost ratios\n",
        "print(average_ratios)\n"
      ],
      "metadata": {
        "id": "PYdOP0jc6DKE"
      },
      "execution_count": null,
      "outputs": []
    },
    {
      "cell_type": "code",
      "source": [
        "plt.plot(average_ratios.index, average_ratios.values)"
      ],
      "metadata": {
        "id": "bxcLYNTP6z29"
      },
      "execution_count": null,
      "outputs": []
    },
    {
      "cell_type": "code",
      "source": [
        "tt = APPFLA_df[[\"Quantity\",\"Inventory.Cost\",\"Price\",\"Price-to-Cost Ratio\",\"Discount Rate (%)\"]]\n",
        "tt[tt['Discount Rate (%)'] > 0]\n",
        "tt"
      ],
      "metadata": {
        "id": "3_HBO2QQ1SSW"
      },
      "execution_count": null,
      "outputs": []
    },
    {
      "cell_type": "code",
      "source": [
        "APPFLA_df[['Quantity','Discount Rate (%)']]"
      ],
      "metadata": {
        "id": "vuJh2F83x0ou"
      },
      "execution_count": null,
      "outputs": []
    },
    {
      "cell_type": "code",
      "source": [
        "# Prepare data\n",
        "X = APPFLA_df[['Quantity']]  # Independent variable\n",
        "y = APPFLA_df['Discount Rate (%)']  # Dependent variable\n",
        "\n",
        "# Optionally split the data - in this simple example, we'll use all data for fitting\n",
        "# X_train, X_test, y_train, y_test = train_test_split(X, y, test_size=0.2, random_state=42)\n",
        "\n",
        "# Choose and fit the model\n",
        "model = LinearRegression()\n",
        "model.fit(X, y)\n"
      ],
      "metadata": {
        "id": "hT6yeSmuwU8E"
      },
      "execution_count": null,
      "outputs": []
    },
    {
      "cell_type": "code",
      "source": [
        "X, y"
      ],
      "metadata": {
        "id": "naOyevYmxZyv"
      },
      "execution_count": null,
      "outputs": []
    },
    {
      "cell_type": "code",
      "source": [
        "#Jiahua Wang End here"
      ],
      "metadata": {
        "id": "bYyz4DIfTpyN"
      },
      "execution_count": null,
      "outputs": []
    },
    {
      "cell_type": "code",
      "source": [
        "good_customer_df['Year'].value_counts()"
      ],
      "metadata": {
        "id": "JHTkZi0FTb8I"
      },
      "execution_count": null,
      "outputs": []
    },
    {
      "cell_type": "code",
      "source": [
        "product_class = good_customer_df[good_customer_df['Item.Group'] == 'Welding Equip WS/SD']['Product.Classification'].unique()\n",
        "for each in product_class:\n",
        "  if good_customer_df[(good_customer_df['Item.Group'] == 'Welding Equip WS/SD')&(good_customer_df['Product.Classification'] == each)]['UoM.Code'].nunique() > 1:\n",
        "    print(each)"
      ],
      "metadata": {
        "id": "PdWAHA1fLlRw"
      },
      "execution_count": null,
      "outputs": []
    },
    {
      "cell_type": "code",
      "source": [
        "result_df = good_customer_df.groupby(['Year','Item.Group','Product.Classification','UoM.Code'])[['Inventory.Cost','Price','Quantity']].sum().reset_index()"
      ],
      "metadata": {
        "id": "6WsIuccoecD4"
      },
      "execution_count": null,
      "outputs": []
    },
    {
      "cell_type": "code",
      "source": [
        "result_df['Profit_Margin'] = (result_df['Price'] - result_df['Inventory.Cost'])/result_df['Inventory.Cost'] * 100"
      ],
      "metadata": {
        "id": "XESlH8vCfYER"
      },
      "execution_count": null,
      "outputs": []
    },
    {
      "cell_type": "code",
      "source": [
        "result_df"
      ],
      "metadata": {
        "id": "-0TpR44Df88S"
      },
      "execution_count": null,
      "outputs": []
    },
    {
      "cell_type": "code",
      "source": [
        "result_df.to_csv('profit_margin_calc.csv',index=False)"
      ],
      "metadata": {
        "id": "_gALsD46j6-c"
      },
      "execution_count": null,
      "outputs": []
    },
    {
      "cell_type": "code",
      "source": [
        "selected_data = result_df[result_df['Product.Classification'] == 'ABRBEL']\n",
        "\n",
        "plt.figure(figsize=(10, 6))\n",
        "\n",
        "# Plot Quantity by UoM.Code\n",
        "sns.scatterplot(data=selected_data, x='Year', y='Quantity', hue='UoM.Code', style='UoM.Code', markers=True, palette='Set2',legend='full')\n",
        "\n",
        "# Plot Profit Margin by UoM.Code\n",
        "sns.scatterplot(data=selected_data, x='Year', y='Profit_Margin', hue='UoM.Code', style='UoM.Code', markers=True, palette='Set1',legend='full')\n",
        "\n",
        "# Set labels and title\n",
        "plt.xlabel('Year')\n",
        "plt.ylabel('Value')\n",
        "plt.title('Quantity and Profit Margin by UoM.Code over Years for ABRBEL')\n",
        "\n",
        "# Show legend\n",
        "plt.legend(title='UoM.Code')\n",
        "\n",
        "# Show the plot\n",
        "plt.show()\n"
      ],
      "metadata": {
        "id": "gtSAeLSngrqp"
      },
      "execution_count": null,
      "outputs": []
    },
    {
      "cell_type": "code",
      "source": [
        "pilot_df = good_customer_df[(good_customer_df['Item.Group'] == 'Welding Equip WS/SD')&(good_customer_df['Product.Classification'] == 'SAFRES')]"
      ],
      "metadata": {
        "id": "T8UphiN_Oq5t"
      },
      "execution_count": null,
      "outputs": []
    },
    {
      "cell_type": "code",
      "source": [
        "years = pilot_df['Year'].unique()\n",
        "\n",
        "for year in years:\n",
        "    fig, axes = plt.subplots(nrows=1, ncols=2, figsize=(15, 5))\n",
        "    year_data = pilot_df[pilot_df['Year'] == year]\n",
        "\n",
        "    # Plot Profit Margin over Invoice Date\n",
        "    axes[0].scatter(year_data['Invoice.Date'], year_data['Profit_Margin'], color='blue')\n",
        "    axes[0].set_title(f'Profit Margin Over Date - Year {year}')\n",
        "    axes[0].set_xlabel('Invoice Date')\n",
        "    axes[0].set_ylabel('Profit Margin')\n",
        "\n",
        "    # Plot Quantity over Invoice Date\n",
        "    axes[1].scatter(year_data['Invoice.Date'], year_data['Quantity'], color='green')\n",
        "    axes[1].set_title(f'Quantity Over Date - Year {year}')\n",
        "    axes[1].set_xlabel('Invoice Date')\n",
        "    axes[1].set_ylabel('Quantity')\n",
        "\n",
        "    plt.tight_layout()\n",
        "    plt.show()\n"
      ],
      "metadata": {
        "id": "IwIYYZ-EQtti"
      },
      "execution_count": null,
      "outputs": []
    },
    {
      "cell_type": "code",
      "source": [
        "unique_years = pilot_df['Year'].unique()\n",
        "\n",
        "# Determine the number of plots needed\n",
        "num_plots = len(unique_years)\n",
        "\n",
        "# Calculate the number of rows and columns for the grid\n",
        "num_rows = 2\n",
        "num_cols = 3\n",
        "\n",
        "# Create a figure and axes for the subplots\n",
        "fig, axes = plt.subplots(2, 3, figsize=(15, 10))\n",
        "\n",
        "# Flatten the axes array for easier indexing\n",
        "axes = axes.flatten()\n",
        "\n",
        "# Iterate over unique years and create plots\n",
        "for i, year in enumerate(unique_years):\n",
        "    # Filter data for the current year\n",
        "    year_data = pilot_df[pilot_df['Year'] == year]\n",
        "\n",
        "    # Plot Profit Margin vs Quantity for the current year\n",
        "    axes[i].scatter(year_data['Profit_Margin'], year_data['Quantity'], color='blue')\n",
        "\n",
        "    # Set labels and title for the current subplot\n",
        "    axes[i].set_xlabel('Profit Margin')\n",
        "    axes[i].set_ylabel('Quantity')\n",
        "    axes[i].set_title(f'Profit Margin vs Quantity - Year {year}')\n",
        "\n",
        "# Adjust layout and display the plots\n",
        "plt.tight_layout()\n",
        "plt.show()\n"
      ],
      "metadata": {
        "id": "DBNsG44ATkFe"
      },
      "execution_count": null,
      "outputs": []
    },
    {
      "cell_type": "markdown",
      "source": [
        "### Transform Customer Category"
      ],
      "metadata": {
        "id": "h1_ihzSQXKeK"
      }
    },
    {
      "cell_type": "code",
      "source": [
        "## Customer category\n",
        "df['Customer.Category'] = df['Customer.Category'].fillna('Good')\n",
        "mapping_customer_dict = {\n",
        "    'P3': 'Good',\n",
        "    'P1': 'Good',\n",
        "    'P2': 'Good',\n",
        "    #'Average Cost': 'Other',\n",
        "    'P0': 'Good',\n",
        "    #'OV': 'Other',\n",
        "    #'List Price': 'Other',\n",
        "}\n",
        "# Remap values in specific columns\n",
        "df['Customer.Category'] = df['Customer.Category'].replace(mapping_customer_dict)"
      ],
      "metadata": {
        "id": "AfPGmCSlXFoM"
      },
      "execution_count": null,
      "outputs": []
    },
    {
      "cell_type": "markdown",
      "source": [
        "### Inflation"
      ],
      "metadata": {
        "id": "miCtPxumX4cN"
      }
    },
    {
      "cell_type": "code",
      "source": [
        "## Adding inflation\n",
        "inflation = pd.read_excel('/content/drive/MyDrive/Capstone Data/inflation.xlsx',skiprows=11)\n",
        "month_map = {'Jan': 1, 'Feb': 2, 'Mar': 3, 'Apr': 4, 'May': 5, 'Jun': 6, 'Jul': 7, 'Aug': 8, 'Sep': 9, 'Oct': 10, 'Nov': 11, 'Dec': 12}\n",
        "inflation.rename(columns=month_map, inplace=True)\n",
        "inflation.drop(columns=['HALF1','HALF2'],inplace=True)\n",
        "melted_inflation = pd.melt(inflation, id_vars=['Year'], var_name='Month', value_name='Inflation')"
      ],
      "metadata": {
        "id": "GlQR_QaoX6cX"
      },
      "execution_count": null,
      "outputs": []
    },
    {
      "cell_type": "markdown",
      "source": [
        "### Region Mapping"
      ],
      "metadata": {
        "id": "ncybpikmYODd"
      }
    },
    {
      "cell_type": "code",
      "source": [
        "## Map Regions\n",
        "state_to_region = {\n",
        "    # Pacific\n",
        "    'CA': 'Pacific', 'WA': 'Pacific', 'OR': 'Pacific', 'AK': 'Pacific', 'HI': 'Pacific',\n",
        "    # West\n",
        "    'MT':'West','ND':'West','ID': 'West', 'SD':'West', 'WY': 'West', 'NE':'West','NV':'West','UT': 'West','CO':'West','AZ':'West','NM':'West',\n",
        "    # Midwest\n",
        "    'IL': 'Midwest', 'OH': 'Midwest', 'MI': 'Midwest', 'IN': 'Midwest', 'WI': 'Midwest', 'IA': 'Midwest', 'MN': 'Midwest', 'MO': 'Midwest', 'KS': 'Midwest', 'NE': 'Midwest', 'SD': 'Midwest', 'ND': 'Midwest', 'KY':'Midwest', 'WV': 'Midwest',\n",
        "    # Central\n",
        "    'KS' : 'Central', 'MO': 'Central', 'TN': 'Central', 'OK' : 'Central', 'AR': 'Central',\n",
        "    # Gulf Coast\n",
        "    'TX': 'Gulf_Coast','LA': 'Gulf_Coast', 'MS': 'Gulf_Coast', 'AL': 'Gulf_Coast', 'GA': 'Gulf_Coast', 'FL': 'Gulf_Coast',\n",
        "    # Mid-Atlantic\n",
        "    'PA' : 'Mid-Atlantic',  'NJ': 'Mid-Atlantic', 'DE':'Mid-Atlantic', 'MD':'Mid-Atlantic', 'VA':'Mid-Atlantic', 'NC':'Mid-Atlantic', 'SC': 'Mid-Atlantic',\n",
        "    # Northeast\n",
        "    'NY': 'Northeast', 'CT': 'Northeast', 'MA': 'Northeast', 'RI': 'Northeast', 'VT': 'Northeast', 'NH': 'Northeast', 'ME': 'Northeast',\n",
        "    # # Northeast\n",
        "    # 'NY': 'Northeast', 'NJ': 'Northeast', 'PA': 'Northeast', 'CT': 'Northeast', 'MA': 'Northeast', 'RI': 'Northeast', 'VT': 'Northeast', 'NH': 'Northeast', 'ME': 'Northeast', 'MD': 'Northeast',\n",
        "    # # Southeast\n",
        "    # 'DE': 'Southeast', 'WV': 'Southeast', 'VA': 'Southeast', 'NC': 'Southeast', 'SC': 'Southeast', 'GA': 'Southeast', 'FL': 'Southeast', 'DC': 'Southeast', 'KY': 'Southeast','TN':'Southeast','AR': 'Southeast','MS':'Southeast','AL':'Southeast','LA':'Southeast',\n",
        "    # # East\n",
        "    # 'NY': 'East', 'NJ': 'East', 'PA': 'East', 'CT': 'East', 'MA': 'East', 'RI': 'East', 'VT': 'East', 'NH': 'East', 'ME': 'East', 'MD': 'East',\n",
        "    # # Southeast\n",
        "    # 'DE': 'East', 'WV': 'East', 'VA': 'East', 'NC': 'East', 'SC': 'East', 'GA': 'East', 'FL': 'East', 'DC': 'East', 'KY': 'East','TN':'East','AR': 'East','MS':'East','AL':'East','LA':'East',\n",
        "    # # Southwest\n",
        "    # 'TX': 'Southwest', 'AZ': 'Southwest', 'NM': 'Southwest', 'OK': 'Southwest',\n",
        "    # # Other\n",
        "    # 'BC':'Other','AB':'Other','QC':'Other'\n",
        "}\n",
        "\n",
        "df['Ship.To.State'] = df['Ship.To.State'].replace(state_to_region)"
      ],
      "metadata": {
        "id": "YJWd4GIZYPnu"
      },
      "execution_count": null,
      "outputs": []
    },
    {
      "cell_type": "markdown",
      "source": [
        "### Numerical Transformation"
      ],
      "metadata": {
        "id": "UjEFdA7EYjl8"
      }
    },
    {
      "cell_type": "code",
      "source": [
        "numerical_columns = ['Inventory.Cost','Price','Quantity']\n",
        "df[numerical_columns] = df[numerical_columns].replace({',': ''}, regex=True).astype(float)"
      ],
      "metadata": {
        "id": "dXtgCxZiYjA5"
      },
      "execution_count": null,
      "outputs": []
    },
    {
      "cell_type": "markdown",
      "source": [
        "### Margin"
      ],
      "metadata": {
        "id": "gQnioVsoYpj2"
      }
    },
    {
      "cell_type": "markdown",
      "source": [
        "## Explore one specific product"
      ],
      "metadata": {
        "id": "gtLHwE2xhXBN"
      }
    },
    {
      "cell_type": "code",
      "source": [
        "df = pd.read_csv('/content/drive/MyDrive/Capstone Data/filled_df.csv',low_memory=False)\n",
        "df2 = pd.read_csv('/content/drive/MyDrive/Capstone Data/margin_final.csv', low_memory = False)"
      ],
      "metadata": {
        "id": "WgOXRv45ETB7"
      },
      "execution_count": null,
      "outputs": []
    },
    {
      "cell_type": "code",
      "source": [
        "df"
      ],
      "metadata": {
        "id": "oWR_FbbLm6uP"
      },
      "execution_count": null,
      "outputs": []
    },
    {
      "cell_type": "code",
      "source": [
        "df2"
      ],
      "metadata": {
        "id": "hiqkAmOTi5Zx"
      },
      "execution_count": null,
      "outputs": []
    },
    {
      "cell_type": "code",
      "source": [
        "df['Per_Margin'] = (df['Price'] - df['Inventory.Cost']) / df['Inventory.Cost']"
      ],
      "metadata": {
        "id": "Uf69t-oqGnS9"
      },
      "execution_count": null,
      "outputs": []
    },
    {
      "cell_type": "code",
      "source": [
        "df['Product.Classification'].value_counts()"
      ],
      "metadata": {
        "id": "LtNj2eMoWKv8"
      },
      "execution_count": null,
      "outputs": []
    },
    {
      "cell_type": "code",
      "source": [
        "df = df[df['Customer.Category']=='Good']"
      ],
      "metadata": {
        "id": "a4i1uSaQHkMo"
      },
      "execution_count": null,
      "outputs": []
    },
    {
      "cell_type": "code",
      "source": [
        "from sklearn.model_selection import train_test_split\n",
        "from sklearn.compose import ColumnTransformer\n",
        "from sklearn.pipeline import Pipeline\n",
        "from sklearn.impute import SimpleImputer\n",
        "from sklearn.ensemble import RandomForestRegressor\n",
        "from sklearn.preprocessing import StandardScaler, OneHotEncoder\n",
        "from sklearn.metrics import mean_squared_error\n",
        "\n",
        "categorical_features = ['Item.No.','Item.Group','Product.Classification']\n",
        "numerical_features = ['Quantity','Inventory.Cost','Price']\n",
        "\n",
        "# Create preprocessor\n",
        "numeric_transformer = Pipeline(steps=[\n",
        "    ('imputer', SimpleImputer(strategy='median')),\n",
        "    ('scaler', StandardScaler())\n",
        "])\n",
        "\n",
        "categorical_transformer = Pipeline(steps=[\n",
        "    ('imputer', SimpleImputer(strategy='most_frequent')),\n",
        "    ('onehot', OneHotEncoder(handle_unknown='ignore'))\n",
        "])\n",
        "\n",
        "preprocessor = ColumnTransformer(\n",
        "    transformers=[\n",
        "        ('num', numeric_transformer, numerical_features),\n",
        "        ('cat', categorical_transformer, categorical_features)\n",
        "    ])\n",
        "\n",
        "# Create the pipeline\n",
        "pipeline = Pipeline(steps=[('preprocessor', preprocessor),\n",
        "                           ('regressor', RandomForestRegressor())])\n",
        "\n",
        "X = df[['Item.No.','Item.Group','Product.Classification','Quantity','Inventory.Cost']]\n",
        "y = df['Price']\n",
        "X_train, X_test, y_train, y_test = train_test_split(X, y, test_size=0.2, random_state=42)\n",
        "\n",
        "pipeline.fit(X_train, y_train)\n",
        "\n",
        "train_score = pipeline.score(X_train, y_train)\n",
        "test_score = pipeline.score(X_test, y_test)\n",
        "\n",
        "print(f\"Train Score: {train_score}\")\n",
        "print(f\"Test Score: {test_score}\")\n",
        "\n",
        "\n",
        "# rf = RandomForestRegressor(n_estimators = 300, max_features = 'sqrt', max_depth = 5, random_state = 42).fit(X_train, y_train)\n",
        "\n",
        "# prediction = rf.predict(X_test)\n",
        "\n",
        "# mse = mean_squared_error(y_test, prediction)\n",
        "# rmse = mse**.5\n",
        "# print(mse)\n",
        "# print(rmse)"
      ],
      "metadata": {
        "id": "k1lsJj2ZGlSc"
      },
      "execution_count": null,
      "outputs": []
    },
    {
      "cell_type": "code",
      "source": [
        "test_df = df[(df['Customer.Category']=='Good')&(df['Item.Group']=='Const Supplies CS/SD')&(df['Product.Classification']=='SAFETY')&(df['Item.No.']=='GEC 990IK-L')]"
      ],
      "metadata": {
        "id": "alnozxSohWlw"
      },
      "execution_count": null,
      "outputs": []
    },
    {
      "cell_type": "code",
      "source": [
        "test_df.info()"
      ],
      "metadata": {
        "id": "HYvwehIfhet3"
      },
      "execution_count": null,
      "outputs": []
    },
    {
      "cell_type": "code",
      "source": [
        "test_df['Ship.To.State'].value_counts()"
      ],
      "metadata": {
        "id": "3sfzYBaNloiC"
      },
      "execution_count": null,
      "outputs": []
    },
    {
      "cell_type": "code",
      "source": [
        "avg_price_quantity = test_df.groupby('Invoice.Date').agg({'Price': 'mean', 'Quantity': 'mean','Inventory.Cost':'mean','Per_Margin':'mean'}).reset_index()\n",
        "\n",
        "avg_price_quantity.columns = ['Invoice.Date', 'Avg_Price', 'Avg_Quantity','Avg_Cost','Avg_Margin']\n",
        "\n",
        "test_df = test_df.merge(avg_price_quantity, on='Invoice.Date', how='left')"
      ],
      "metadata": {
        "id": "dlpkr6Pw-892"
      },
      "execution_count": null,
      "outputs": []
    },
    {
      "cell_type": "code",
      "source": [
        "pilot_df = test_df[['Stock.Status','Avg_Price','Avg_Quantity','Avg_Cost', 'Avg_Margin','Invoice.Date','Year','Month','Quarter','Prev_Quarter']]"
      ],
      "metadata": {
        "id": "OZXUSmbAEDNZ"
      },
      "execution_count": null,
      "outputs": []
    },
    {
      "cell_type": "code",
      "source": [
        "pilot_df"
      ],
      "metadata": {
        "id": "609JqYnZF1Ad"
      },
      "execution_count": null,
      "outputs": []
    },
    {
      "cell_type": "code",
      "source": [
        "pilot_df.info()"
      ],
      "metadata": {
        "id": "z9yI8kEC8n7F"
      },
      "execution_count": null,
      "outputs": []
    },
    {
      "cell_type": "code",
      "source": [
        "pilot_df[pilot_df['Year']==2016]"
      ],
      "metadata": {
        "id": "KTg35Mg6FOaX"
      },
      "execution_count": null,
      "outputs": []
    },
    {
      "cell_type": "code",
      "source": [
        "years = pilot_df['Year'].unique()\n",
        "\n",
        "# Plotting average price and average quantity separately for each year\n",
        "for year in years:\n",
        "    fig, axes = plt.subplots(nrows=1, ncols=2, figsize=(15, 5))\n",
        "    year_data = pilot_df[pilot_df['Year'] == year]\n",
        "    year_data.plot(x='Invoice.Date', y='Avg_Price', ax=axes[0], title=f'Average Price Over Date - Year {year}', color='blue')\n",
        "    # year_data.plot(x='Invoice.Date', y='Avg_Quantity', ax=axes[0], title=f'Average Price Over Date - Year {year}', color='green')\n",
        "    year_data.plot(x='Invoice.Date', y='Avg_Quantity', ax=axes[1], title=f'Average Quantity Over Date - Year {year}', color='green')\n",
        "    plt.tight_layout()\n",
        "    plt.show()"
      ],
      "metadata": {
        "id": "zeusdMIME3zX"
      },
      "execution_count": null,
      "outputs": []
    },
    {
      "cell_type": "code",
      "source": [
        "years = pilot_df['Year'].unique()\n",
        "\n",
        "# Plotting average price and average quantity separately for each year\n",
        "for year in years:\n",
        "    fig, axes = plt.subplots(nrows=1, ncols=2, figsize=(15, 5))\n",
        "    year_data = pilot_df[pilot_df['Year'] == year]\n",
        "    year_data.plot(x='Invoice.Date', y='Avg_Cost', ax=axes[0], title=f'Average Price Over Date - Year {year}', color='blue')\n",
        "    year_data.plot(x='Invoice.Date', y='Avg_Margin', ax=axes[0], title=f'Average Price Over Date - Year {year}', color='blue')\n",
        "    plt.show()"
      ],
      "metadata": {
        "id": "ZFTVWNzfOvrM"
      },
      "execution_count": null,
      "outputs": []
    },
    {
      "cell_type": "code",
      "source": [
        "test_df_2 = df[(df['Customer.Category']=='Good')&(df['Item.Group']=='Const Supplies CS/SD')&(df['Product.Classification']=='SAFETY')&(df['Item.No.']=='PBI 1500068')]"
      ],
      "metadata": {
        "id": "F7d21wAT-0HU"
      },
      "execution_count": null,
      "outputs": []
    },
    {
      "cell_type": "code",
      "source": [
        "avg_price_quantity = test_df_2.groupby('Invoice.Date').agg({'Price': 'mean', 'Quantity': 'mean','Inventory.Cost':'mean'}).reset_index()\n",
        "\n",
        "avg_price_quantity.columns = ['Invoice.Date', 'Avg_Price', 'Avg_Quantity','Avg_Cost']\n",
        "\n",
        "test_df_2 = test_df_2.merge(avg_price_quantity, on='Invoice.Date', how='left')"
      ],
      "metadata": {
        "id": "UyPu45QH_AlI"
      },
      "execution_count": null,
      "outputs": []
    },
    {
      "cell_type": "code",
      "source": [
        "years = test_df_2['Year'].unique()\n",
        "\n",
        "# Plotting average price and average quantity separately for each year\n",
        "for year in years:\n",
        "    fig, axes = plt.subplots(nrows=1, ncols=2, figsize=(15, 5))\n",
        "    year_data = test_df_2[test_df_2['Year'] == year]\n",
        "    year_data.plot(x='Invoice.Date', y='Avg_Price', ax=axes[0], title=f'Average Price Over Date - Year {year}', color='blue')\n",
        "    year_data.plot(x='Invoice.Date', y='Avg_Quantity', ax=axes[1], title=f'Average Quantity Over Date - Year {year}', color='green')\n",
        "    plt.tight_layout()\n",
        "    plt.show()"
      ],
      "metadata": {
        "id": "J9oGm9yK_QD7"
      },
      "execution_count": null,
      "outputs": []
    }
  ]
}